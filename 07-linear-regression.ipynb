{
 "cells": [
  {
   "cell_type": "markdown",
   "id": "400e76a6-dd30-4bbc-b104-76d5328f08a6",
   "metadata": {},
   "source": [
    "# Linear regression"
   ]
  },
  {
   "cell_type": "code",
   "execution_count": 1,
   "id": "6c91cc2b-11b7-4335-a89c-52f2968f8a06",
   "metadata": {},
   "outputs": [],
   "source": [
    "from pyspark.ml.regression import LinearRegression"
   ]
  },
  {
   "cell_type": "code",
   "execution_count": 2,
   "id": "e980feb9-78d9-4c78-9a95-0991d279c477",
   "metadata": {},
   "outputs": [],
   "source": [
    "from pyspark.sql import SparkSession"
   ]
  },
  {
   "cell_type": "code",
   "execution_count": 5,
   "id": "c1b6f052-a505-4382-b436-e8a9feb8eab8",
   "metadata": {},
   "outputs": [
    {
     "name": "stderr",
     "output_type": "stream",
     "text": [
      "21/07/28 15:48:40 WARN Utils: Your hostname, GBLON1WLZ13699 resolves to a loopback address: 127.0.1.1; using 10.164.16.79 instead (on interface eth2)\n",
      "21/07/28 15:48:40 WARN Utils: Set SPARK_LOCAL_IP if you need to bind to another address\n",
      "WARNING: An illegal reflective access operation has occurred\n",
      "WARNING: Illegal reflective access by org.apache.spark.unsafe.Platform (file:/home/juvid/.local/lib/python3.8/site-packages/pyspark/jars/spark-unsafe_2.12-3.1.2.jar) to constructor java.nio.DirectByteBuffer(long,int)\n",
      "WARNING: Please consider reporting this to the maintainers of org.apache.spark.unsafe.Platform\n",
      "WARNING: Use --illegal-access=warn to enable warnings of further illegal reflective access operations\n",
      "WARNING: All illegal access operations will be denied in a future release\n",
      "21/07/28 15:48:45 WARN NativeCodeLoader: Unable to load native-hadoop library for your platform... using builtin-java classes where applicable\n",
      "Using Spark's default log4j profile: org/apache/spark/log4j-defaults.properties\n",
      "Setting default log level to \"WARN\".\n",
      "To adjust logging level use sc.setLogLevel(newLevel). For SparkR, use setLogLevel(newLevel).\n"
     ]
    }
   ],
   "source": [
    "spark = SparkSession.builder.appName('lrex').getOrCreate()"
   ]
  },
  {
   "cell_type": "code",
   "execution_count": 6,
   "id": "9f207fe8-0de4-4d0b-854b-2d3f45394811",
   "metadata": {},
   "outputs": [],
   "source": [
    "data_path = '/home/juvid/Python-and-Spark-for-Big-Data-master/Spark_for_Machine_Learning/Linear_Regression/sample_linear_regression_data.txt'"
   ]
  },
  {
   "cell_type": "code",
   "execution_count": 7,
   "id": "3df9d810-8482-4bc3-809c-820836bdc219",
   "metadata": {},
   "outputs": [
    {
     "name": "stderr",
     "output_type": "stream",
     "text": [
      "21/07/28 15:48:49 WARN LibSVMFileFormat: 'numFeatures' option not specified, determining the number of features by going though the input. If you know the number in advance, please specify it via 'numFeatures' option to avoid the extra scan.\n"
     ]
    }
   ],
   "source": [
    "training = spark.read.format(\"libsvm\").load(data_path)"
   ]
  },
  {
   "cell_type": "code",
   "execution_count": 8,
   "id": "87f38832-0fcf-44d7-937e-fc8003bffb5c",
   "metadata": {},
   "outputs": [
    {
     "name": "stdout",
     "output_type": "stream",
     "text": [
      "+-------------------+--------------------+\n",
      "|              label|            features|\n",
      "+-------------------+--------------------+\n",
      "| -9.490009878824548|(10,[0,1,2,3,4,5,...|\n",
      "| 0.2577820163584905|(10,[0,1,2,3,4,5,...|\n",
      "| -4.438869807456516|(10,[0,1,2,3,4,5,...|\n",
      "|-19.782762789614537|(10,[0,1,2,3,4,5,...|\n",
      "| -7.966593841555266|(10,[0,1,2,3,4,5,...|\n",
      "| -7.896274316726144|(10,[0,1,2,3,4,5,...|\n",
      "| -8.464803554195287|(10,[0,1,2,3,4,5,...|\n",
      "| 2.1214592666251364|(10,[0,1,2,3,4,5,...|\n",
      "| 1.0720117616524107|(10,[0,1,2,3,4,5,...|\n",
      "|-13.772441561702871|(10,[0,1,2,3,4,5,...|\n",
      "| -5.082010756207233|(10,[0,1,2,3,4,5,...|\n",
      "|  7.887786536531237|(10,[0,1,2,3,4,5,...|\n",
      "| 14.323146365332388|(10,[0,1,2,3,4,5,...|\n",
      "|-20.057482615789212|(10,[0,1,2,3,4,5,...|\n",
      "|-0.8995693247765151|(10,[0,1,2,3,4,5,...|\n",
      "| -19.16829262296376|(10,[0,1,2,3,4,5,...|\n",
      "|  5.601801561245534|(10,[0,1,2,3,4,5,...|\n",
      "|-3.2256352187273354|(10,[0,1,2,3,4,5,...|\n",
      "| 1.5299675726687754|(10,[0,1,2,3,4,5,...|\n",
      "| -0.250102447941961|(10,[0,1,2,3,4,5,...|\n",
      "+-------------------+--------------------+\n",
      "only showing top 20 rows\n",
      "\n"
     ]
    }
   ],
   "source": [
    "training.show()"
   ]
  },
  {
   "cell_type": "markdown",
   "id": "99243f82-2e20-4198-af4f-183be176a673",
   "metadata": {},
   "source": [
    "Notice that features is a collection of features"
   ]
  },
  {
   "cell_type": "code",
   "execution_count": 12,
   "id": "21f94d4d-fea2-46c5-a42c-99d32c4fd6e1",
   "metadata": {},
   "outputs": [],
   "source": [
    "a_feature_vector = training.head(1)[0].features"
   ]
  },
  {
   "cell_type": "code",
   "execution_count": 19,
   "id": "5fa38813-7bce-4c28-bd58-4f92baf4069b",
   "metadata": {},
   "outputs": [
    {
     "data": {
      "text/plain": [
       "SparseVector(10, {0: 0.4551, 1: 0.3664, 2: -0.3826, 3: -0.4458, 4: 0.3311, 5: 0.8067, 6: -0.2624, 7: -0.4485, 8: -0.0727, 9: 0.5658})"
      ]
     },
     "execution_count": 19,
     "metadata": {},
     "output_type": "execute_result"
    }
   ],
   "source": [
    "a_feature_vector"
   ]
  },
  {
   "cell_type": "code",
   "execution_count": 18,
   "id": "22463719-e4b9-4b19-9b4a-3759619abe82",
   "metadata": {},
   "outputs": [
    {
     "data": {
      "text/plain": [
       "10"
      ]
     },
     "execution_count": 18,
     "metadata": {},
     "output_type": "execute_result"
    }
   ],
   "source": [
    "a_feature_vector.size"
   ]
  },
  {
   "cell_type": "code",
   "execution_count": 20,
   "id": "da2ab399-380f-458d-891c-bb8ab01c67d9",
   "metadata": {},
   "outputs": [],
   "source": [
    "lr = LinearRegression(featuresCol='features', labelCol='label', predictionCol='prediction')"
   ]
  },
  {
   "cell_type": "code",
   "execution_count": 21,
   "id": "872531ed-ed77-4d0b-ac3d-dc923f621184",
   "metadata": {},
   "outputs": [
    {
     "name": "stderr",
     "output_type": "stream",
     "text": [
      "21/07/28 15:59:06 WARN Instrumentation: [7747e190] regParam is zero, which might cause numerical instability and overfitting.\n",
      "21/07/28 15:59:06 WARN BLAS: Failed to load implementation from: com.github.fommil.netlib.NativeSystemBLAS\n",
      "21/07/28 15:59:06 WARN BLAS: Failed to load implementation from: com.github.fommil.netlib.NativeRefBLAS\n",
      "21/07/28 15:59:06 WARN LAPACK: Failed to load implementation from: com.github.fommil.netlib.NativeSystemLAPACK\n",
      "21/07/28 15:59:06 WARN LAPACK: Failed to load implementation from: com.github.fommil.netlib.NativeRefLAPACK\n"
     ]
    }
   ],
   "source": [
    "res = lr.fit(training)"
   ]
  },
  {
   "cell_type": "code",
   "execution_count": 22,
   "id": "8b6cdcf8-0e83-4013-ad68-faf3ee914268",
   "metadata": {},
   "outputs": [
    {
     "data": {
      "text/plain": [
       "DenseVector([0.0073, 0.8314, -0.8095, 2.4412, 0.5192, 1.1535, -0.2989, -0.5129, -0.6197, 0.6956])"
      ]
     },
     "execution_count": 22,
     "metadata": {},
     "output_type": "execute_result"
    }
   ],
   "source": [
    "res.coefficients"
   ]
  },
  {
   "cell_type": "code",
   "execution_count": 23,
   "id": "dcf5b8c4-7a29-4ce3-9e4a-979214fb08d4",
   "metadata": {},
   "outputs": [
    {
     "data": {
      "text/plain": [
       "0.14228558260358093"
      ]
     },
     "execution_count": 23,
     "metadata": {},
     "output_type": "execute_result"
    }
   ],
   "source": [
    "res.intercept"
   ]
  },
  {
   "cell_type": "code",
   "execution_count": 26,
   "id": "9122cb70-0917-48ec-9767-a1ab1458570b",
   "metadata": {},
   "outputs": [],
   "source": [
    "summary = res.summary"
   ]
  },
  {
   "cell_type": "code",
   "execution_count": 27,
   "id": "41833681-3d60-454f-b083-6289ca3f5d67",
   "metadata": {},
   "outputs": [
    {
     "data": {
      "text/plain": [
       "[0.9927505031240562,\n",
       " 0.30967074330990396,\n",
       " 0.3178269194409711,\n",
       " 0.003972477331573909,\n",
       " 0.5201486327242175,\n",
       " 0.16213017210149872,\n",
       " 0.7102819001865635,\n",
       " 0.5266812209137877,\n",
       " 0.46256007153356316,\n",
       " 0.37825808848978526,\n",
       " 0.7592692146070568]"
      ]
     },
     "execution_count": 27,
     "metadata": {},
     "output_type": "execute_result"
    }
   ],
   "source": [
    "summary.pValues"
   ]
  },
  {
   "cell_type": "code",
   "execution_count": 33,
   "id": "7847fa13-49b8-4910-9121-8487fffe742f",
   "metadata": {},
   "outputs": [
    {
     "data": {
      "text/plain": [
       "103.28843028724194"
      ]
     },
     "execution_count": 33,
     "metadata": {},
     "output_type": "execute_result"
    }
   ],
   "source": [
    "summary.meanSquaredError"
   ]
  },
  {
   "cell_type": "markdown",
   "id": "c8310436-ba2d-45d6-9a87-0e3de9153e43",
   "metadata": {},
   "source": [
    "---"
   ]
  },
  {
   "cell_type": "markdown",
   "id": "0f532b6d-f535-48ad-b1d8-1f11b001e1ca",
   "metadata": {},
   "source": [
    "Redo with a test/train split"
   ]
  },
  {
   "cell_type": "code",
   "execution_count": 34,
   "id": "b4a06b42-ea99-4f52-be4a-b9053ef1ef66",
   "metadata": {},
   "outputs": [
    {
     "name": "stderr",
     "output_type": "stream",
     "text": [
      "21/07/28 16:01:59 WARN LibSVMFileFormat: 'numFeatures' option not specified, determining the number of features by going though the input. If you know the number in advance, please specify it via 'numFeatures' option to avoid the extra scan.\n"
     ]
    }
   ],
   "source": [
    "all_data = spark.read.format(\"libsvm\").load(data_path)"
   ]
  },
  {
   "cell_type": "code",
   "execution_count": 36,
   "id": "75465431-2597-4405-9668-86433b727517",
   "metadata": {},
   "outputs": [],
   "source": [
    "train_data, test_data = all_data.randomSplit([0.7, 0.3])"
   ]
  },
  {
   "cell_type": "code",
   "execution_count": 37,
   "id": "221dd176-270a-4a59-9576-d9707efec962",
   "metadata": {},
   "outputs": [
    {
     "name": "stdout",
     "output_type": "stream",
     "text": [
      "+-------+-------------------+\n",
      "|summary|              label|\n",
      "+-------+-------------------+\n",
      "|  count|                342|\n",
      "|   mean|-0.6213795488815526|\n",
      "| stddev| 10.570890894672331|\n",
      "|    min|-28.571478869743427|\n",
      "|    max|  27.78383192005107|\n",
      "+-------+-------------------+\n",
      "\n"
     ]
    }
   ],
   "source": [
    "train_data.describe().show()"
   ]
  },
  {
   "cell_type": "code",
   "execution_count": 38,
   "id": "868126b3-456f-48e2-9514-26fdb1d7d9c8",
   "metadata": {},
   "outputs": [
    {
     "name": "stdout",
     "output_type": "stream",
     "text": [
      "+-------+------------------+\n",
      "|summary|             label|\n",
      "+-------+------------------+\n",
      "|  count|               159|\n",
      "|   mean|  2.14599437507661|\n",
      "| stddev|    9.511326381021|\n",
      "|    min|-23.51088409032297|\n",
      "|    max|26.903524792043335|\n",
      "+-------+------------------+\n",
      "\n"
     ]
    }
   ],
   "source": [
    "test_data.describe().show()"
   ]
  },
  {
   "cell_type": "code",
   "execution_count": 39,
   "id": "20e5d917-07e1-4114-bd4c-4e70a0a5c6c5",
   "metadata": {},
   "outputs": [
    {
     "name": "stderr",
     "output_type": "stream",
     "text": [
      "21/07/28 16:04:06 WARN Instrumentation: [b40f6157] regParam is zero, which might cause numerical instability and overfitting.\n"
     ]
    }
   ],
   "source": [
    "res = lr.fit(train_data)"
   ]
  },
  {
   "cell_type": "code",
   "execution_count": 40,
   "id": "3680f20d-ddaf-4ca6-817e-2499accdbecf",
   "metadata": {},
   "outputs": [],
   "source": [
    "test_preds = res.evaluate(test_data)"
   ]
  },
  {
   "cell_type": "code",
   "execution_count": 43,
   "id": "4a6e38de-cd54-4e6f-899d-622774940b67",
   "metadata": {},
   "outputs": [
    {
     "data": {
      "text/plain": [
       "9.926487686438854"
      ]
     },
     "execution_count": 43,
     "metadata": {},
     "output_type": "execute_result"
    }
   ],
   "source": [
    "test_preds.rootMeanSquaredError"
   ]
  },
  {
   "cell_type": "markdown",
   "id": "7e025e1e-fd93-4e41-91ee-ab5dda3346da",
   "metadata": {},
   "source": [
    "Predict on unlabelled data"
   ]
  },
  {
   "cell_type": "code",
   "execution_count": 45,
   "id": "9ffbbe8f-f115-4011-a9c3-c643a6dd3c84",
   "metadata": {},
   "outputs": [],
   "source": [
    "unlabelled_features = test_data.select('features')"
   ]
  },
  {
   "cell_type": "code",
   "execution_count": 48,
   "id": "a092acf3-dd87-4b8a-876b-267a1ac3cbc7",
   "metadata": {},
   "outputs": [
    {
     "name": "stdout",
     "output_type": "stream",
     "text": [
      "+--------------------+--------------------+\n",
      "|            features|          prediction|\n",
      "+--------------------+--------------------+\n",
      "|(10,[0,1,2,3,4,5,...| -2.1291459114382367|\n",
      "|(10,[0,1,2,3,4,5,...| -0.8862321530312158|\n",
      "|(10,[0,1,2,3,4,5,...|  -2.655639009307706|\n",
      "|(10,[0,1,2,3,4,5,...| -1.9196123507387894|\n",
      "|(10,[0,1,2,3,4,5,...| -1.1891806926080375|\n",
      "|(10,[0,1,2,3,4,5,...|-0.03146160672959908|\n",
      "|(10,[0,1,2,3,4,5,...|  2.3184435415633255|\n",
      "|(10,[0,1,2,3,4,5,...| -0.3695935771287562|\n",
      "|(10,[0,1,2,3,4,5,...| -2.6604384451534977|\n",
      "|(10,[0,1,2,3,4,5,...|   -1.55571132232169|\n",
      "|(10,[0,1,2,3,4,5,...|  -0.832984412508025|\n",
      "|(10,[0,1,2,3,4,5,...|   2.153324408685861|\n",
      "|(10,[0,1,2,3,4,5,...|  0.4869102719824333|\n",
      "|(10,[0,1,2,3,4,5,...| -1.9081788549467409|\n",
      "|(10,[0,1,2,3,4,5,...|  -5.559904148263277|\n",
      "|(10,[0,1,2,3,4,5,...|  -6.827287507666536|\n",
      "|(10,[0,1,2,3,4,5,...|  -5.219842229281323|\n",
      "|(10,[0,1,2,3,4,5,...| 0.07202955377842779|\n",
      "|(10,[0,1,2,3,4,5,...|   1.430239190394722|\n",
      "|(10,[0,1,2,3,4,5,...|-0.13279256304145903|\n",
      "+--------------------+--------------------+\n",
      "only showing top 20 rows\n",
      "\n"
     ]
    }
   ],
   "source": [
    "predictions = res.transform(unlabelled_features)\n",
    "predictions.show()"
   ]
  },
  {
   "cell_type": "markdown",
   "id": "9edde096-963c-4836-a907-1315fc43d079",
   "metadata": {},
   "source": [
    "---"
   ]
  },
  {
   "cell_type": "markdown",
   "id": "f780daad-5de6-47a6-8abe-79339c360be2",
   "metadata": {},
   "source": [
    "## Another example"
   ]
  },
  {
   "cell_type": "code",
   "execution_count": 3,
   "id": "66700d90-d073-444d-aee6-ce96245db953",
   "metadata": {},
   "outputs": [
    {
     "name": "stderr",
     "output_type": "stream",
     "text": [
      "21/08/05 13:20:40 WARN Utils: Your hostname, GBLON1WLZ13699 resolves to a loopback address: 127.0.1.1; using 10.164.81.22 instead (on interface eth2)\n",
      "21/08/05 13:20:40 WARN Utils: Set SPARK_LOCAL_IP if you need to bind to another address\n",
      "WARNING: An illegal reflective access operation has occurred\n",
      "WARNING: Illegal reflective access by org.apache.spark.unsafe.Platform (file:/home/juvid/.local/lib/python3.8/site-packages/pyspark/jars/spark-unsafe_2.12-3.1.2.jar) to constructor java.nio.DirectByteBuffer(long,int)\n",
      "WARNING: Please consider reporting this to the maintainers of org.apache.spark.unsafe.Platform\n",
      "WARNING: Use --illegal-access=warn to enable warnings of further illegal reflective access operations\n",
      "WARNING: All illegal access operations will be denied in a future release\n",
      "21/08/05 13:20:46 WARN NativeCodeLoader: Unable to load native-hadoop library for your platform... using builtin-java classes where applicable\n",
      "Using Spark's default log4j profile: org/apache/spark/log4j-defaults.properties\n",
      "Setting default log level to \"WARN\".\n",
      "To adjust logging level use sc.setLogLevel(newLevel). For SparkR, use setLogLevel(newLevel).\n"
     ]
    }
   ],
   "source": [
    "spark = SparkSession.builder.appName('lr_example').getOrCreate()"
   ]
  },
  {
   "cell_type": "code",
   "execution_count": 11,
   "id": "fb9f602b-e4ca-4d1d-9099-8fbacd65bdc2",
   "metadata": {},
   "outputs": [],
   "source": [
    "from pathlib import Path\n",
    "data_path = Path('../Python-and-Spark-for-Big-Data-master/Course_Notes/Spark_for_Machine_Learning/Linear_Regression/Ecommerce_Customers.csv')\n"
   ]
  },
  {
   "cell_type": "code",
   "execution_count": 13,
   "id": "2e43ba3b-7ec1-430d-b2d7-69105080b48c",
   "metadata": {},
   "outputs": [],
   "source": [
    "df = spark.read.csv(str(data_path), header=True, inferSchema=True)"
   ]
  },
  {
   "cell_type": "code",
   "execution_count": 16,
   "id": "100bf02d-be45-4ada-a53f-8db5f0a473d8",
   "metadata": {},
   "outputs": [
    {
     "name": "stdout",
     "output_type": "stream",
     "text": [
      "root\n",
      " |-- Email: string (nullable = true)\n",
      " |-- Address: string (nullable = true)\n",
      " |-- Avatar: string (nullable = true)\n",
      " |-- Avg Session Length: double (nullable = true)\n",
      " |-- Time on App: double (nullable = true)\n",
      " |-- Time on Website: double (nullable = true)\n",
      " |-- Length of Membership: double (nullable = true)\n",
      " |-- Yearly Amount Spent: double (nullable = true)\n",
      "\n"
     ]
    }
   ],
   "source": [
    "df.printSchema()"
   ]
  },
  {
   "cell_type": "code",
   "execution_count": 18,
   "id": "158b6579-c604-4a64-b79d-3ffa98eb3974",
   "metadata": {},
   "outputs": [
    {
     "name": "stdout",
     "output_type": "stream",
     "text": [
      "mstephenson@fernandez.com\n",
      "835 Frank TunnelWrightmouth, MI 82180-9605\n",
      "Violet\n",
      "34.49726772511229\n",
      "12.65565114916675\n",
      "39.57766801952616\n",
      "4.0826206329529615\n",
      "587.9510539684005\n"
     ]
    }
   ],
   "source": [
    "for item in df.head(1)[0]:\n",
    "    print(item)"
   ]
  },
  {
   "cell_type": "code",
   "execution_count": 19,
   "id": "306ef770-1349-42d9-b7f4-1acdf839f1ac",
   "metadata": {},
   "outputs": [],
   "source": [
    "from pyspark.ml.linalg import Vectors\n",
    "from pyspark.ml.feature import VectorAssembler"
   ]
  },
  {
   "cell_type": "code",
   "execution_count": 20,
   "id": "1541cb53-8a85-4ba7-a245-10b2181433b8",
   "metadata": {},
   "outputs": [
    {
     "data": {
      "text/plain": [
       "['Email',\n",
       " 'Address',\n",
       " 'Avatar',\n",
       " 'Avg Session Length',\n",
       " 'Time on App',\n",
       " 'Time on Website',\n",
       " 'Length of Membership',\n",
       " 'Yearly Amount Spent']"
      ]
     },
     "execution_count": 20,
     "metadata": {},
     "output_type": "execute_result"
    }
   ],
   "source": [
    "df.columns"
   ]
  },
  {
   "cell_type": "code",
   "execution_count": 21,
   "id": "0fd5a6f2-4025-4bca-ab95-656d3a3e1b9e",
   "metadata": {},
   "outputs": [],
   "source": [
    "assembler = VectorAssembler(\n",
    "    inputCols=[\n",
    "        'Avg Session Length',\n",
    "        'Time on App',\n",
    "        'Time on Website',\n",
    "        'Length of Membership',\n",
    "    ], \n",
    "    outputCol='features'\n",
    ")"
   ]
  },
  {
   "cell_type": "code",
   "execution_count": 22,
   "id": "8a825d68-6f9e-4316-a932-4ec5055bfba2",
   "metadata": {},
   "outputs": [],
   "source": [
    "output = assembler.transform(df)"
   ]
  },
  {
   "cell_type": "code",
   "execution_count": 23,
   "id": "3edb655c-3018-4ec0-a079-1ee85b404c23",
   "metadata": {},
   "outputs": [
    {
     "name": "stdout",
     "output_type": "stream",
     "text": [
      "root\n",
      " |-- Email: string (nullable = true)\n",
      " |-- Address: string (nullable = true)\n",
      " |-- Avatar: string (nullable = true)\n",
      " |-- Avg Session Length: double (nullable = true)\n",
      " |-- Time on App: double (nullable = true)\n",
      " |-- Time on Website: double (nullable = true)\n",
      " |-- Length of Membership: double (nullable = true)\n",
      " |-- Yearly Amount Spent: double (nullable = true)\n",
      " |-- features: vector (nullable = true)\n",
      "\n"
     ]
    }
   ],
   "source": [
    "output.printSchema()"
   ]
  },
  {
   "cell_type": "markdown",
   "id": "ce966d67-a95d-46c0-8db9-8c9edd88622a",
   "metadata": {},
   "source": [
    "creates a new features column to the original df"
   ]
  },
  {
   "cell_type": "code",
   "execution_count": 27,
   "id": "18593785-f196-421a-8489-34f9efce1e7d",
   "metadata": {},
   "outputs": [
    {
     "data": {
      "text/plain": [
       "DenseVector([34.4973, 12.6557, 39.5777, 4.0826])"
      ]
     },
     "execution_count": 27,
     "metadata": {},
     "output_type": "execute_result"
    }
   ],
   "source": [
    "output.head(1)[0]['features']"
   ]
  },
  {
   "cell_type": "markdown",
   "id": "b039a5a5-d48a-489e-a223-10ecc51aef18",
   "metadata": {},
   "source": [
    "This is the format spark expects for most ML algorithms"
   ]
  },
  {
   "cell_type": "code",
   "execution_count": 28,
   "id": "4406e9b2-18f3-4acd-a30d-1bae49091439",
   "metadata": {},
   "outputs": [
    {
     "name": "stdout",
     "output_type": "stream",
     "text": [
      "+--------------------+-------------------+\n",
      "|            features|Yearly Amount Spent|\n",
      "+--------------------+-------------------+\n",
      "|[34.4972677251122...|  587.9510539684005|\n",
      "|[31.9262720263601...|  392.2049334443264|\n",
      "|[33.0009147556426...| 487.54750486747207|\n",
      "|[34.3055566297555...|  581.8523440352177|\n",
      "|[33.3306725236463...|  599.4060920457634|\n",
      "|[33.8710378793419...|   637.102447915074|\n",
      "|[32.0215955013870...|  521.5721747578274|\n",
      "|[32.7391429383803...|  549.9041461052942|\n",
      "|[33.9877728956856...|  570.2004089636196|\n",
      "|[31.9365486184489...|  427.1993848953282|\n",
      "|[33.9925727749537...|  492.6060127179966|\n",
      "|[33.8793608248049...|  522.3374046069357|\n",
      "|[29.5324289670579...|  408.6403510726275|\n",
      "|[33.1903340437226...|  573.4158673313865|\n",
      "|[32.3879758531538...|  470.4527333009554|\n",
      "|[30.7377203726281...|  461.7807421962299|\n",
      "|[32.1253868972878...| 457.84769594494855|\n",
      "|[32.3388993230671...| 407.70454754954415|\n",
      "|[32.1878120459321...|  452.3156754800354|\n",
      "|[32.6178560628234...|   605.061038804892|\n",
      "+--------------------+-------------------+\n",
      "only showing top 20 rows\n",
      "\n"
     ]
    }
   ],
   "source": [
    "final_data = output.select('features', 'Yearly Amount Spent')\n",
    "final_data.show()"
   ]
  },
  {
   "cell_type": "code",
   "execution_count": 29,
   "id": "9bd64e0c-70a9-4399-9cf5-f875d8f23e68",
   "metadata": {},
   "outputs": [],
   "source": [
    "train_data, test_data = final_data.randomSplit([0.7,0.3])"
   ]
  },
  {
   "cell_type": "code",
   "execution_count": 30,
   "id": "6866c76e-393b-4da9-803c-8f47e988464a",
   "metadata": {},
   "outputs": [
    {
     "name": "stdout",
     "output_type": "stream",
     "text": [
      "+-------+-------------------+\n",
      "|summary|Yearly Amount Spent|\n",
      "+-------+-------------------+\n",
      "|  count|                354|\n",
      "|   mean|  495.8642468312903|\n",
      "| stddev|  77.19405443156823|\n",
      "|    min|   266.086340948469|\n",
      "|    max|  744.2218671047146|\n",
      "+-------+-------------------+\n",
      "\n"
     ]
    }
   ],
   "source": [
    "train_data.describe().show()"
   ]
  },
  {
   "cell_type": "code",
   "execution_count": 32,
   "id": "c25a203e-f16d-4a47-a9f4-a8bdafa3a2ed",
   "metadata": {},
   "outputs": [
    {
     "name": "stdout",
     "output_type": "stream",
     "text": [
      "+-------+-------------------+\n",
      "|summary|Yearly Amount Spent|\n",
      "+-------+-------------------+\n",
      "|  count|                146|\n",
      "|   mean|  507.6786010343743|\n",
      "| stddev|  83.92110305950304|\n",
      "|    min| 256.67058229005585|\n",
      "|    max|  765.5184619388373|\n",
      "+-------+-------------------+\n",
      "\n"
     ]
    }
   ],
   "source": [
    "test_data.describe().show()"
   ]
  },
  {
   "cell_type": "code",
   "execution_count": 33,
   "id": "dc33b80e-9ddb-46f4-9b50-158eebc1fcba",
   "metadata": {},
   "outputs": [],
   "source": [
    "lr = LinearRegression(labelCol='Yearly Amount Spent')"
   ]
  },
  {
   "cell_type": "code",
   "execution_count": 34,
   "id": "5306e64b-b26e-42f6-96f1-0311cd84a682",
   "metadata": {},
   "outputs": [
    {
     "name": "stderr",
     "output_type": "stream",
     "text": [
      "21/08/05 13:35:09 WARN Instrumentation: [3051732a] regParam is zero, which might cause numerical instability and overfitting.\n",
      "21/08/05 13:35:10 WARN BLAS: Failed to load implementation from: com.github.fommil.netlib.NativeSystemBLAS\n",
      "21/08/05 13:35:10 WARN BLAS: Failed to load implementation from: com.github.fommil.netlib.NativeRefBLAS\n",
      "21/08/05 13:35:10 WARN LAPACK: Failed to load implementation from: com.github.fommil.netlib.NativeSystemLAPACK\n",
      "21/08/05 13:35:10 WARN LAPACK: Failed to load implementation from: com.github.fommil.netlib.NativeRefLAPACK\n"
     ]
    }
   ],
   "source": [
    "lr_model = lr.fit(train_data)"
   ]
  },
  {
   "cell_type": "code",
   "execution_count": 35,
   "id": "b0f612b8-d9c4-4860-8896-ec9af24363c5",
   "metadata": {},
   "outputs": [],
   "source": [
    "test_results = lr_model.evaluate(test_data)"
   ]
  },
  {
   "cell_type": "code",
   "execution_count": 40,
   "id": "8777266e-8570-4a27-953f-b07dba5627a4",
   "metadata": {},
   "outputs": [
    {
     "name": "stdout",
     "output_type": "stream",
     "text": [
      "+-------------------+\n",
      "|          residuals|\n",
      "+-------------------+\n",
      "| -5.547012990786641|\n",
      "| -5.253012189375966|\n",
      "|  -7.09819961319937|\n",
      "|-1.7627221150124797|\n",
      "| 2.6516966475240906|\n",
      "| 1.1391350666010567|\n",
      "| -19.49748586723672|\n",
      "| -7.579079422936843|\n",
      "|-19.717094043756845|\n",
      "|-2.1879149393911916|\n",
      "| -8.538867508857663|\n",
      "|-1.7570922115878034|\n",
      "|  4.512023029544139|\n",
      "|  8.737357406491242|\n",
      "| 19.063114915486494|\n",
      "| 3.3556842649929877|\n",
      "|  5.137697117624441|\n",
      "| -6.919305943345762|\n",
      "|  8.523691080964397|\n",
      "| -3.861307570878921|\n",
      "+-------------------+\n",
      "only showing top 20 rows\n",
      "\n"
     ]
    }
   ],
   "source": [
    "test_results.residuals.show()"
   ]
  },
  {
   "cell_type": "code",
   "execution_count": 41,
   "id": "4693742f-1f66-4fab-96fa-cc963d01c4ac",
   "metadata": {},
   "outputs": [
    {
     "data": {
      "text/plain": [
       "0.9862918292946022"
      ]
     },
     "execution_count": 41,
     "metadata": {},
     "output_type": "execute_result"
    }
   ],
   "source": [
    "test_results.r2"
   ]
  },
  {
   "cell_type": "code",
   "execution_count": 42,
   "id": "5dc8822d-2515-4089-a153-b53b79c9ae1f",
   "metadata": {},
   "outputs": [
    {
     "name": "stdout",
     "output_type": "stream",
     "text": [
      "+-------+-------------------+\n",
      "|summary|Yearly Amount Spent|\n",
      "+-------+-------------------+\n",
      "|  count|                500|\n",
      "|   mean|  499.3140382585909|\n",
      "| stddev|   79.3147815497068|\n",
      "|    min| 256.67058229005585|\n",
      "|    max|  765.5184619388373|\n",
      "+-------+-------------------+\n",
      "\n"
     ]
    }
   ],
   "source": [
    "final_data.describe().show()"
   ]
  },
  {
   "cell_type": "code",
   "execution_count": 43,
   "id": "b474ad99-3947-4a90-b8e8-45f0691a9781",
   "metadata": {},
   "outputs": [],
   "source": [
    "unlabelled_data = test_data.select('features')"
   ]
  },
  {
   "cell_type": "code",
   "execution_count": 44,
   "id": "1243401f-a748-40c2-afc2-7d31a8c614dd",
   "metadata": {},
   "outputs": [],
   "source": [
    "prediction = lr_model.transform(unlabelled_data)"
   ]
  },
  {
   "cell_type": "code",
   "execution_count": 45,
   "id": "73d995af-0b5d-420a-9a19-812811bc1d40",
   "metadata": {},
   "outputs": [
    {
     "name": "stdout",
     "output_type": "stream",
     "text": [
      "+--------------------+------------------+\n",
      "|            features|        prediction|\n",
      "+--------------------+------------------+\n",
      "|[30.8364326747734...|473.04891341777625|\n",
      "|[30.8794843441274...|495.45961217423064|\n",
      "|[31.0613251567161...|  494.653657671101|\n",
      "|[31.2606468698795...|423.08935337196385|\n",
      "|[31.3091926408918...|430.06902119240954|\n",
      "|[31.3895854806643...|408.93047599338183|\n",
      "|[31.5702008293202...| 565.4429780086416|\n",
      "|[31.7207699002873...| 546.3540129009598|\n",
      "|[31.8164283341993...| 520.8395855474132|\n",
      "|[31.8186165667690...|448.60658830952684|\n",
      "|[31.8854062999117...| 398.6421404813332|\n",
      "|[31.9120759292006...| 389.2918085172955|\n",
      "|[31.9480174211613...|457.40885386335367|\n",
      "|[31.9549038566348...|431.26052253343573|\n",
      "|[32.0180740106320...| 338.7199958298288|\n",
      "|[32.0542618511847...|   558.51897340399|\n",
      "|[32.0789475795693...| 352.7260215207673|\n",
      "|[32.0883806304482...| 519.0851723315038|\n",
      "|[32.1151190660142...|341.53450908288073|\n",
      "|[32.1223647957977...| 532.7949261358992|\n",
      "+--------------------+------------------+\n",
      "only showing top 20 rows\n",
      "\n"
     ]
    }
   ],
   "source": [
    "prediction.show()"
   ]
  },
  {
   "cell_type": "code",
   "execution_count": null,
   "id": "f03965e0-ada6-4a1c-82f2-69f563c0a3e2",
   "metadata": {},
   "outputs": [],
   "source": []
  }
 ],
 "metadata": {
  "kernelspec": {
   "display_name": "Python 3 (ipykernel)",
   "language": "python",
   "name": "python3"
  },
  "language_info": {
   "codemirror_mode": {
    "name": "ipython",
    "version": 3
   },
   "file_extension": ".py",
   "mimetype": "text/x-python",
   "name": "python",
   "nbconvert_exporter": "python",
   "pygments_lexer": "ipython3",
   "version": "3.8.10"
  }
 },
 "nbformat": 4,
 "nbformat_minor": 5
}
