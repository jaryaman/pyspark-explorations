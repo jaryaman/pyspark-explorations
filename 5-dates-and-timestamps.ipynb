{
 "cells": [
  {
   "cell_type": "markdown",
   "id": "eaff920b-51dc-4f29-8258-6967c55fd342",
   "metadata": {},
   "source": [
    "# Dates and timestamps"
   ]
  },
  {
   "cell_type": "code",
   "execution_count": 1,
   "id": "00f3eaf2-bda5-4198-b267-205eaf9b417c",
   "metadata": {},
   "outputs": [],
   "source": [
    "from pyspark.sql import SparkSession\n",
    "from pathlib import Path\n",
    "data_dir = Path('../pyspark/Python-and-Spark-for-Big-Data-master/Spark_DataFrames')"
   ]
  },
  {
   "cell_type": "code",
   "execution_count": 2,
   "id": "83721179-be51-493d-9c88-1b905284c7cc",
   "metadata": {},
   "outputs": [
    {
     "name": "stderr",
     "output_type": "stream",
     "text": [
      "21/07/19 08:36:35 WARN Utils: Your hostname, GBLON1WLZ13699 resolves to a loopback address: 127.0.1.1; using 10.164.85.96 instead (on interface eth2)\n",
      "21/07/19 08:36:35 WARN Utils: Set SPARK_LOCAL_IP if you need to bind to another address\n",
      "WARNING: An illegal reflective access operation has occurred\n",
      "WARNING: Illegal reflective access by org.apache.spark.unsafe.Platform (file:/home/juvid/.local/lib/python3.8/site-packages/pyspark/jars/spark-unsafe_2.12-3.1.2.jar) to constructor java.nio.DirectByteBuffer(long,int)\n",
      "WARNING: Please consider reporting this to the maintainers of org.apache.spark.unsafe.Platform\n",
      "WARNING: Use --illegal-access=warn to enable warnings of further illegal reflective access operations\n",
      "WARNING: All illegal access operations will be denied in a future release\n",
      "21/07/19 08:36:40 WARN NativeCodeLoader: Unable to load native-hadoop library for your platform... using builtin-java classes where applicable\n",
      "Using Spark's default log4j profile: org/apache/spark/log4j-defaults.properties\n",
      "Setting default log level to \"WARN\".\n",
      "To adjust logging level use sc.setLogLevel(newLevel). For SparkR, use setLogLevel(newLevel).\n"
     ]
    }
   ],
   "source": [
    "spark = SparkSession.builder.appName('dates').getOrCreate()"
   ]
  },
  {
   "cell_type": "code",
   "execution_count": 3,
   "id": "05b9ea45-a74a-4e15-a774-9f7b189910fc",
   "metadata": {},
   "outputs": [
    {
     "name": "stderr",
     "output_type": "stream",
     "text": [
      "                                                                                \r"
     ]
    }
   ],
   "source": [
    "df = spark.read.csv(str(data_dir/'appl_stock.csv'), header=True, inferSchema=True)"
   ]
  },
  {
   "cell_type": "code",
   "execution_count": 4,
   "id": "35ad55e6-42d0-4211-b2cb-36d411e6a600",
   "metadata": {},
   "outputs": [
    {
     "data": {
      "text/plain": [
       "[Row(Date='2010-01-04', Open=213.429998, High=214.499996, Low=212.38000099999996, Close=214.009998, Volume=123432400, Adj Close=27.727039)]"
      ]
     },
     "execution_count": 4,
     "metadata": {},
     "output_type": "execute_result"
    }
   ],
   "source": [
    "df.head(1)"
   ]
  },
  {
   "cell_type": "code",
   "execution_count": 6,
   "id": "09c10167-515c-4ee6-a631-52c80f3b2807",
   "metadata": {},
   "outputs": [],
   "source": [
    "from pyspark.sql.functions import (dayofmonth, hour, dayofyear, month, year, \n",
    "                                   weekofyear, format_number, date_format)"
   ]
  },
  {
   "cell_type": "code",
   "execution_count": 10,
   "id": "05554120-1972-4f04-862b-b5e4bf4cbd77",
   "metadata": {},
   "outputs": [
    {
     "name": "stdout",
     "output_type": "stream",
     "text": [
      "+----------------+\n",
      "|weekofyear(Date)|\n",
      "+----------------+\n",
      "|               1|\n",
      "|               1|\n",
      "|               1|\n",
      "|               1|\n",
      "|               1|\n",
      "|               2|\n",
      "|               2|\n",
      "|               2|\n",
      "|               2|\n",
      "|               2|\n",
      "|               3|\n",
      "|               3|\n",
      "|               3|\n",
      "|               3|\n",
      "|               4|\n",
      "|               4|\n",
      "|               4|\n",
      "|               4|\n",
      "|               4|\n",
      "|               5|\n",
      "+----------------+\n",
      "only showing top 20 rows\n",
      "\n"
     ]
    }
   ],
   "source": [
    "df.select(weekofyear('Date')).show()"
   ]
  },
  {
   "cell_type": "markdown",
   "id": "014da3df-8fef-4c18-9655-79cd1bdbac00",
   "metadata": {},
   "source": [
    "Let's find the average closing price per year"
   ]
  },
  {
   "cell_type": "code",
   "execution_count": 22,
   "id": "0bde38d7-a1cd-4ea2-8b0d-d666535dd68f",
   "metadata": {},
   "outputs": [
    {
     "name": "stderr",
     "output_type": "stream",
     "text": [
      "[Stage 61:====================================>                 (136 + 7) / 200]\r"
     ]
    },
    {
     "name": "stdout",
     "output_type": "stream",
     "text": [
      "+----+-----------------+\n",
      "|Year|avg_closing_price|\n",
      "+----+-----------------+\n",
      "|2010|           259.84|\n",
      "|2011|           364.00|\n",
      "|2012|           576.05|\n",
      "|2013|           472.63|\n",
      "|2014|           295.40|\n",
      "|2015|           120.04|\n",
      "|2016|           104.60|\n",
      "+----+-----------------+\n",
      "\n"
     ]
    },
    {
     "name": "stderr",
     "output_type": "stream",
     "text": [
      "                                                                                \r"
     ]
    }
   ],
   "source": [
    "avg_closing_price_name = 'avg_closing_price'\n",
    "tmp = df.withColumn('Year', year('Date'))  \n",
    "tmp = tmp.select(['Year', 'Close']).groupBy('Year').mean().select(['Year', 'avg(Close)'])\n",
    "tmp = avg_closing_price.withColumnRenamed(\"avg(Close)\",avg_closing_price_name)\n",
    "tmp = tmp.select(['Year', format_number('avg_closing_price',2).alias(avg_closing_price_name)])\n",
    "avg_closing_price = tmp.sort('Year')\n",
    "avg_closing_price.show()"
   ]
  },
  {
   "cell_type": "code",
   "execution_count": null,
   "id": "583fccef-ae5a-4c09-9b0b-8bb405a90c25",
   "metadata": {},
   "outputs": [],
   "source": []
  }
 ],
 "metadata": {
  "kernelspec": {
   "display_name": "Python 3 (ipykernel)",
   "language": "python",
   "name": "python3"
  },
  "language_info": {
   "codemirror_mode": {
    "name": "ipython",
    "version": 3
   },
   "file_extension": ".py",
   "mimetype": "text/x-python",
   "name": "python",
   "nbconvert_exporter": "python",
   "pygments_lexer": "ipython3",
   "version": "3.8.10"
  }
 },
 "nbformat": 4,
 "nbformat_minor": 5
}
