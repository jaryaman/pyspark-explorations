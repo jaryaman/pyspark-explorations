{
 "cells": [
  {
   "cell_type": "code",
   "execution_count": 1,
   "id": "c69b7364-d27c-4ed7-b86d-10f959486362",
   "metadata": {},
   "outputs": [],
   "source": [
    "from pyspark.sql import SparkSession\n",
    "from pathlib import Path"
   ]
  },
  {
   "cell_type": "code",
   "execution_count": 2,
   "id": "c6768c26-e8fc-4303-8e16-84384f51ca1d",
   "metadata": {},
   "outputs": [
    {
     "name": "stderr",
     "output_type": "stream",
     "text": [
      "21/07/01 16:52:55 WARN Utils: Your hostname, GBLON1WLZ13699 resolves to a loopback address: 127.0.1.1; using 10.164.82.148 instead (on interface eth2)\n",
      "21/07/01 16:52:55 WARN Utils: Set SPARK_LOCAL_IP if you need to bind to another address\n",
      "WARNING: An illegal reflective access operation has occurred\n",
      "WARNING: Illegal reflective access by org.apache.spark.unsafe.Platform (file:/home/juvid/.local/lib/python3.8/site-packages/pyspark/jars/spark-unsafe_2.12-3.1.2.jar) to constructor java.nio.DirectByteBuffer(long,int)\n",
      "WARNING: Please consider reporting this to the maintainers of org.apache.spark.unsafe.Platform\n",
      "WARNING: Use --illegal-access=warn to enable warnings of further illegal reflective access operations\n",
      "WARNING: All illegal access operations will be denied in a future release\n",
      "21/07/01 16:53:00 WARN NativeCodeLoader: Unable to load native-hadoop library for your platform... using builtin-java classes where applicable\n",
      "Using Spark's default log4j profile: org/apache/spark/log4j-defaults.properties\n",
      "Setting default log level to \"WARN\".\n",
      "To adjust logging level use sc.setLogLevel(newLevel). For SparkR, use setLogLevel(newLevel).\n"
     ]
    }
   ],
   "source": [
    "spark = SparkSession.builder.appName('Basics').getOrCreate()"
   ]
  },
  {
   "cell_type": "code",
   "execution_count": 12,
   "id": "aeb49d1b-3dc3-4e12-8c9e-8c19e903a244",
   "metadata": {},
   "outputs": [],
   "source": [
    "data_dir = Path('../pyspark/Python-and-Spark-for-Big-Data-master/Spark_DataFrames')"
   ]
  },
  {
   "cell_type": "code",
   "execution_count": 27,
   "id": "7ab6b66d-00a9-47c2-ba9e-a3734e540d6e",
   "metadata": {},
   "outputs": [],
   "source": [
    "data_path = str(data_dir/'people.json')"
   ]
  },
  {
   "cell_type": "code",
   "execution_count": 28,
   "id": "94ca3b3f-b6d5-42e0-8f8e-43aef8900b1a",
   "metadata": {},
   "outputs": [],
   "source": [
    "df = spark.read.json(data_path)"
   ]
  },
  {
   "cell_type": "code",
   "execution_count": 17,
   "id": "154cd2b6-b3d1-4ca5-973b-afe7446fe9b3",
   "metadata": {},
   "outputs": [
    {
     "name": "stdout",
     "output_type": "stream",
     "text": [
      "+----+-------+\n",
      "| age|   name|\n",
      "+----+-------+\n",
      "|null|Michael|\n",
      "|  30|   Andy|\n",
      "|  19| Justin|\n",
      "+----+-------+\n",
      "\n"
     ]
    }
   ],
   "source": [
    "df.show()"
   ]
  },
  {
   "cell_type": "code",
   "execution_count": 18,
   "id": "b77c4e4f-1a73-4c1e-8d44-a81af12ea0e2",
   "metadata": {},
   "outputs": [
    {
     "name": "stdout",
     "output_type": "stream",
     "text": [
      "root\n",
      " |-- age: long (nullable = true)\n",
      " |-- name: string (nullable = true)\n",
      "\n"
     ]
    }
   ],
   "source": [
    "df.printSchema()"
   ]
  },
  {
   "cell_type": "markdown",
   "id": "f09a2c46-5d33-41d7-91d9-eb8af7352ac0",
   "metadata": {},
   "source": [
    "Spark can do schema inference"
   ]
  },
  {
   "cell_type": "code",
   "execution_count": 19,
   "id": "8757f517-d0e7-4f58-b92e-2ab55a5acf1b",
   "metadata": {},
   "outputs": [
    {
     "data": {
      "text/plain": [
       "['age', 'name']"
      ]
     },
     "execution_count": 19,
     "metadata": {},
     "output_type": "execute_result"
    }
   ],
   "source": [
    "df.columns"
   ]
  },
  {
   "cell_type": "code",
   "execution_count": 21,
   "id": "9be78f26-686f-4625-bd3b-bf511bfcdaac",
   "metadata": {},
   "outputs": [
    {
     "name": "stdout",
     "output_type": "stream",
     "text": [
      "+-------+------------------+-------+\n",
      "|summary|               age|   name|\n",
      "+-------+------------------+-------+\n",
      "|  count|                 2|      3|\n",
      "|   mean|              24.5|   null|\n",
      "| stddev|7.7781745930520225|   null|\n",
      "|    min|                19|   Andy|\n",
      "|    max|                30|Michael|\n",
      "+-------+------------------+-------+\n",
      "\n"
     ]
    }
   ],
   "source": [
    "df.describe().show()"
   ]
  },
  {
   "cell_type": "markdown",
   "id": "1e3a1c6c-3a58-49a3-bcd9-e57459185f1a",
   "metadata": {},
   "source": [
    "## Schema specification"
   ]
  },
  {
   "cell_type": "markdown",
   "id": "f8a785fa-2e01-47dc-910c-c0279b7d5ea3",
   "metadata": {},
   "source": [
    "Sometimes, for complicated data, the schema inference won't work and we need to manually specify it."
   ]
  },
  {
   "cell_type": "code",
   "execution_count": 22,
   "id": "17ef3983-6aba-44e1-b10c-347efb9a2af8",
   "metadata": {},
   "outputs": [],
   "source": [
    "from pyspark.sql.types import StructField, StringType, IntegerType, StructType"
   ]
  },
  {
   "cell_type": "code",
   "execution_count": 25,
   "id": "d16deab3-b2d9-43dc-ba65-9a6b81acda0e",
   "metadata": {},
   "outputs": [],
   "source": [
    "data_schema = [StructField('age', IntegerType(), True),  # the third argument is if the quantity can be null\n",
    "               StructField('name', StringType(), True),\n",
    "              ]  "
   ]
  },
  {
   "cell_type": "code",
   "execution_count": 26,
   "id": "24bffaeb-5b6b-44a9-9c12-170d131a2bcf",
   "metadata": {},
   "outputs": [],
   "source": [
    "final_struct = StructType(fields=data_schema)"
   ]
  },
  {
   "cell_type": "code",
   "execution_count": 29,
   "id": "592f9938-2ba0-46b1-8c70-de434b8668c9",
   "metadata": {},
   "outputs": [],
   "source": [
    "df = spark.read.json(data_path, schema=final_struct)"
   ]
  },
  {
   "cell_type": "code",
   "execution_count": 32,
   "id": "3bbcd1ab-5eb4-4982-965d-2feed35b345e",
   "metadata": {},
   "outputs": [
    {
     "name": "stdout",
     "output_type": "stream",
     "text": [
      "root\n",
      " |-- age: integer (nullable = true)\n",
      " |-- name: string (nullable = true)\n",
      "\n"
     ]
    }
   ],
   "source": [
    "df.printSchema()"
   ]
  },
  {
   "cell_type": "code",
   "execution_count": null,
   "id": "c9994193-cc91-48e1-bbd2-6cd19b346d30",
   "metadata": {},
   "outputs": [],
   "source": []
  }
 ],
 "metadata": {
  "kernelspec": {
   "display_name": "Python 3 (ipykernel)",
   "language": "python",
   "name": "python3"
  },
  "language_info": {
   "codemirror_mode": {
    "name": "ipython",
    "version": 3
   },
   "file_extension": ".py",
   "mimetype": "text/x-python",
   "name": "python",
   "nbconvert_exporter": "python",
   "pygments_lexer": "ipython3",
   "version": "3.8.10"
  }
 },
 "nbformat": 4,
 "nbformat_minor": 5
}
