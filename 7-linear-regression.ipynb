{
 "cells": [
  {
   "cell_type": "markdown",
   "id": "400e76a6-dd30-4bbc-b104-76d5328f08a6",
   "metadata": {},
   "source": [
    "# Linear regression"
   ]
  },
  {
   "cell_type": "code",
   "execution_count": 2,
   "id": "6c91cc2b-11b7-4335-a89c-52f2968f8a06",
   "metadata": {},
   "outputs": [],
   "source": [
    "from pyspark.ml.regression import LinearRegression"
   ]
  },
  {
   "cell_type": "code",
   "execution_count": 4,
   "id": "e980feb9-78d9-4c78-9a95-0991d279c477",
   "metadata": {},
   "outputs": [],
   "source": [
    "from pyspark.sql import SparkSession"
   ]
  },
  {
   "cell_type": "code",
   "execution_count": 5,
   "id": "c1b6f052-a505-4382-b436-e8a9feb8eab8",
   "metadata": {},
   "outputs": [
    {
     "name": "stderr",
     "output_type": "stream",
     "text": [
      "21/07/28 15:48:40 WARN Utils: Your hostname, GBLON1WLZ13699 resolves to a loopback address: 127.0.1.1; using 10.164.16.79 instead (on interface eth2)\n",
      "21/07/28 15:48:40 WARN Utils: Set SPARK_LOCAL_IP if you need to bind to another address\n",
      "WARNING: An illegal reflective access operation has occurred\n",
      "WARNING: Illegal reflective access by org.apache.spark.unsafe.Platform (file:/home/juvid/.local/lib/python3.8/site-packages/pyspark/jars/spark-unsafe_2.12-3.1.2.jar) to constructor java.nio.DirectByteBuffer(long,int)\n",
      "WARNING: Please consider reporting this to the maintainers of org.apache.spark.unsafe.Platform\n",
      "WARNING: Use --illegal-access=warn to enable warnings of further illegal reflective access operations\n",
      "WARNING: All illegal access operations will be denied in a future release\n",
      "21/07/28 15:48:45 WARN NativeCodeLoader: Unable to load native-hadoop library for your platform... using builtin-java classes where applicable\n",
      "Using Spark's default log4j profile: org/apache/spark/log4j-defaults.properties\n",
      "Setting default log level to \"WARN\".\n",
      "To adjust logging level use sc.setLogLevel(newLevel). For SparkR, use setLogLevel(newLevel).\n"
     ]
    }
   ],
   "source": [
    "spark = SparkSession.builder.appName('lrex').getOrCreate()"
   ]
  },
  {
   "cell_type": "code",
   "execution_count": 6,
   "id": "9f207fe8-0de4-4d0b-854b-2d3f45394811",
   "metadata": {},
   "outputs": [],
   "source": [
    "data_path = '/home/juvid/Python-and-Spark-for-Big-Data-master/Spark_for_Machine_Learning/Linear_Regression/sample_linear_regression_data.txt'"
   ]
  },
  {
   "cell_type": "code",
   "execution_count": 7,
   "id": "3df9d810-8482-4bc3-809c-820836bdc219",
   "metadata": {},
   "outputs": [
    {
     "name": "stderr",
     "output_type": "stream",
     "text": [
      "21/07/28 15:48:49 WARN LibSVMFileFormat: 'numFeatures' option not specified, determining the number of features by going though the input. If you know the number in advance, please specify it via 'numFeatures' option to avoid the extra scan.\n"
     ]
    }
   ],
   "source": [
    "training = spark.read.format(\"libsvm\").load(data_path)"
   ]
  },
  {
   "cell_type": "code",
   "execution_count": 8,
   "id": "87f38832-0fcf-44d7-937e-fc8003bffb5c",
   "metadata": {},
   "outputs": [
    {
     "name": "stdout",
     "output_type": "stream",
     "text": [
      "+-------------------+--------------------+\n",
      "|              label|            features|\n",
      "+-------------------+--------------------+\n",
      "| -9.490009878824548|(10,[0,1,2,3,4,5,...|\n",
      "| 0.2577820163584905|(10,[0,1,2,3,4,5,...|\n",
      "| -4.438869807456516|(10,[0,1,2,3,4,5,...|\n",
      "|-19.782762789614537|(10,[0,1,2,3,4,5,...|\n",
      "| -7.966593841555266|(10,[0,1,2,3,4,5,...|\n",
      "| -7.896274316726144|(10,[0,1,2,3,4,5,...|\n",
      "| -8.464803554195287|(10,[0,1,2,3,4,5,...|\n",
      "| 2.1214592666251364|(10,[0,1,2,3,4,5,...|\n",
      "| 1.0720117616524107|(10,[0,1,2,3,4,5,...|\n",
      "|-13.772441561702871|(10,[0,1,2,3,4,5,...|\n",
      "| -5.082010756207233|(10,[0,1,2,3,4,5,...|\n",
      "|  7.887786536531237|(10,[0,1,2,3,4,5,...|\n",
      "| 14.323146365332388|(10,[0,1,2,3,4,5,...|\n",
      "|-20.057482615789212|(10,[0,1,2,3,4,5,...|\n",
      "|-0.8995693247765151|(10,[0,1,2,3,4,5,...|\n",
      "| -19.16829262296376|(10,[0,1,2,3,4,5,...|\n",
      "|  5.601801561245534|(10,[0,1,2,3,4,5,...|\n",
      "|-3.2256352187273354|(10,[0,1,2,3,4,5,...|\n",
      "| 1.5299675726687754|(10,[0,1,2,3,4,5,...|\n",
      "| -0.250102447941961|(10,[0,1,2,3,4,5,...|\n",
      "+-------------------+--------------------+\n",
      "only showing top 20 rows\n",
      "\n"
     ]
    }
   ],
   "source": [
    "training.show()"
   ]
  },
  {
   "cell_type": "markdown",
   "id": "99243f82-2e20-4198-af4f-183be176a673",
   "metadata": {},
   "source": [
    "Notice that features is a collection of features"
   ]
  },
  {
   "cell_type": "code",
   "execution_count": 12,
   "id": "21f94d4d-fea2-46c5-a42c-99d32c4fd6e1",
   "metadata": {},
   "outputs": [],
   "source": [
    "a_feature_vector = training.head(1)[0].features"
   ]
  },
  {
   "cell_type": "code",
   "execution_count": 19,
   "id": "5fa38813-7bce-4c28-bd58-4f92baf4069b",
   "metadata": {},
   "outputs": [
    {
     "data": {
      "text/plain": [
       "SparseVector(10, {0: 0.4551, 1: 0.3664, 2: -0.3826, 3: -0.4458, 4: 0.3311, 5: 0.8067, 6: -0.2624, 7: -0.4485, 8: -0.0727, 9: 0.5658})"
      ]
     },
     "execution_count": 19,
     "metadata": {},
     "output_type": "execute_result"
    }
   ],
   "source": [
    "a_feature_vector"
   ]
  },
  {
   "cell_type": "code",
   "execution_count": 18,
   "id": "22463719-e4b9-4b19-9b4a-3759619abe82",
   "metadata": {},
   "outputs": [
    {
     "data": {
      "text/plain": [
       "10"
      ]
     },
     "execution_count": 18,
     "metadata": {},
     "output_type": "execute_result"
    }
   ],
   "source": [
    "a_feature_vector.size"
   ]
  },
  {
   "cell_type": "code",
   "execution_count": 20,
   "id": "da2ab399-380f-458d-891c-bb8ab01c67d9",
   "metadata": {},
   "outputs": [],
   "source": [
    "lr = LinearRegression(featuresCol='features', labelCol='label', predictionCol='prediction')"
   ]
  },
  {
   "cell_type": "code",
   "execution_count": 21,
   "id": "872531ed-ed77-4d0b-ac3d-dc923f621184",
   "metadata": {},
   "outputs": [
    {
     "name": "stderr",
     "output_type": "stream",
     "text": [
      "21/07/28 15:59:06 WARN Instrumentation: [7747e190] regParam is zero, which might cause numerical instability and overfitting.\n",
      "21/07/28 15:59:06 WARN BLAS: Failed to load implementation from: com.github.fommil.netlib.NativeSystemBLAS\n",
      "21/07/28 15:59:06 WARN BLAS: Failed to load implementation from: com.github.fommil.netlib.NativeRefBLAS\n",
      "21/07/28 15:59:06 WARN LAPACK: Failed to load implementation from: com.github.fommil.netlib.NativeSystemLAPACK\n",
      "21/07/28 15:59:06 WARN LAPACK: Failed to load implementation from: com.github.fommil.netlib.NativeRefLAPACK\n"
     ]
    }
   ],
   "source": [
    "res = lr.fit(training)"
   ]
  },
  {
   "cell_type": "code",
   "execution_count": 22,
   "id": "8b6cdcf8-0e83-4013-ad68-faf3ee914268",
   "metadata": {},
   "outputs": [
    {
     "data": {
      "text/plain": [
       "DenseVector([0.0073, 0.8314, -0.8095, 2.4412, 0.5192, 1.1535, -0.2989, -0.5129, -0.6197, 0.6956])"
      ]
     },
     "execution_count": 22,
     "metadata": {},
     "output_type": "execute_result"
    }
   ],
   "source": [
    "res.coefficients"
   ]
  },
  {
   "cell_type": "code",
   "execution_count": 23,
   "id": "dcf5b8c4-7a29-4ce3-9e4a-979214fb08d4",
   "metadata": {},
   "outputs": [
    {
     "data": {
      "text/plain": [
       "0.14228558260358093"
      ]
     },
     "execution_count": 23,
     "metadata": {},
     "output_type": "execute_result"
    }
   ],
   "source": [
    "res.intercept"
   ]
  },
  {
   "cell_type": "code",
   "execution_count": 26,
   "id": "9122cb70-0917-48ec-9767-a1ab1458570b",
   "metadata": {},
   "outputs": [],
   "source": [
    "summary = res.summary"
   ]
  },
  {
   "cell_type": "code",
   "execution_count": 27,
   "id": "41833681-3d60-454f-b083-6289ca3f5d67",
   "metadata": {},
   "outputs": [
    {
     "data": {
      "text/plain": [
       "[0.9927505031240562,\n",
       " 0.30967074330990396,\n",
       " 0.3178269194409711,\n",
       " 0.003972477331573909,\n",
       " 0.5201486327242175,\n",
       " 0.16213017210149872,\n",
       " 0.7102819001865635,\n",
       " 0.5266812209137877,\n",
       " 0.46256007153356316,\n",
       " 0.37825808848978526,\n",
       " 0.7592692146070568]"
      ]
     },
     "execution_count": 27,
     "metadata": {},
     "output_type": "execute_result"
    }
   ],
   "source": [
    "summary.pValues"
   ]
  },
  {
   "cell_type": "code",
   "execution_count": 33,
   "id": "7847fa13-49b8-4910-9121-8487fffe742f",
   "metadata": {},
   "outputs": [
    {
     "data": {
      "text/plain": [
       "103.28843028724194"
      ]
     },
     "execution_count": 33,
     "metadata": {},
     "output_type": "execute_result"
    }
   ],
   "source": [
    "summary.meanSquaredError"
   ]
  },
  {
   "cell_type": "markdown",
   "id": "c8310436-ba2d-45d6-9a87-0e3de9153e43",
   "metadata": {},
   "source": [
    "---"
   ]
  },
  {
   "cell_type": "markdown",
   "id": "0f532b6d-f535-48ad-b1d8-1f11b001e1ca",
   "metadata": {},
   "source": [
    "Redo with a test/train split"
   ]
  },
  {
   "cell_type": "code",
   "execution_count": 34,
   "id": "b4a06b42-ea99-4f52-be4a-b9053ef1ef66",
   "metadata": {},
   "outputs": [
    {
     "name": "stderr",
     "output_type": "stream",
     "text": [
      "21/07/28 16:01:59 WARN LibSVMFileFormat: 'numFeatures' option not specified, determining the number of features by going though the input. If you know the number in advance, please specify it via 'numFeatures' option to avoid the extra scan.\n"
     ]
    }
   ],
   "source": [
    "all_data = spark.read.format(\"libsvm\").load(data_path)"
   ]
  },
  {
   "cell_type": "code",
   "execution_count": 36,
   "id": "75465431-2597-4405-9668-86433b727517",
   "metadata": {},
   "outputs": [],
   "source": [
    "train_data, test_data = all_data.randomSplit([0.7, 0.3])"
   ]
  },
  {
   "cell_type": "code",
   "execution_count": 37,
   "id": "221dd176-270a-4a59-9576-d9707efec962",
   "metadata": {},
   "outputs": [
    {
     "name": "stdout",
     "output_type": "stream",
     "text": [
      "+-------+-------------------+\n",
      "|summary|              label|\n",
      "+-------+-------------------+\n",
      "|  count|                342|\n",
      "|   mean|-0.6213795488815526|\n",
      "| stddev| 10.570890894672331|\n",
      "|    min|-28.571478869743427|\n",
      "|    max|  27.78383192005107|\n",
      "+-------+-------------------+\n",
      "\n"
     ]
    }
   ],
   "source": [
    "train_data.describe().show()"
   ]
  },
  {
   "cell_type": "code",
   "execution_count": 38,
   "id": "868126b3-456f-48e2-9514-26fdb1d7d9c8",
   "metadata": {},
   "outputs": [
    {
     "name": "stdout",
     "output_type": "stream",
     "text": [
      "+-------+------------------+\n",
      "|summary|             label|\n",
      "+-------+------------------+\n",
      "|  count|               159|\n",
      "|   mean|  2.14599437507661|\n",
      "| stddev|    9.511326381021|\n",
      "|    min|-23.51088409032297|\n",
      "|    max|26.903524792043335|\n",
      "+-------+------------------+\n",
      "\n"
     ]
    }
   ],
   "source": [
    "test_data.describe().show()"
   ]
  },
  {
   "cell_type": "code",
   "execution_count": 39,
   "id": "20e5d917-07e1-4114-bd4c-4e70a0a5c6c5",
   "metadata": {},
   "outputs": [
    {
     "name": "stderr",
     "output_type": "stream",
     "text": [
      "21/07/28 16:04:06 WARN Instrumentation: [b40f6157] regParam is zero, which might cause numerical instability and overfitting.\n"
     ]
    }
   ],
   "source": [
    "res = lr.fit(train_data)"
   ]
  },
  {
   "cell_type": "code",
   "execution_count": 40,
   "id": "3680f20d-ddaf-4ca6-817e-2499accdbecf",
   "metadata": {},
   "outputs": [],
   "source": [
    "test_preds = res.evaluate(test_data)"
   ]
  },
  {
   "cell_type": "code",
   "execution_count": 43,
   "id": "4a6e38de-cd54-4e6f-899d-622774940b67",
   "metadata": {},
   "outputs": [
    {
     "data": {
      "text/plain": [
       "9.926487686438854"
      ]
     },
     "execution_count": 43,
     "metadata": {},
     "output_type": "execute_result"
    }
   ],
   "source": [
    "test_preds.rootMeanSquaredError"
   ]
  },
  {
   "cell_type": "markdown",
   "id": "7e025e1e-fd93-4e41-91ee-ab5dda3346da",
   "metadata": {},
   "source": [
    "Predict on unlabelled data"
   ]
  },
  {
   "cell_type": "code",
   "execution_count": 45,
   "id": "9ffbbe8f-f115-4011-a9c3-c643a6dd3c84",
   "metadata": {},
   "outputs": [],
   "source": [
    "unlabelled_features = test_data.select('features')"
   ]
  },
  {
   "cell_type": "code",
   "execution_count": 48,
   "id": "a092acf3-dd87-4b8a-876b-267a1ac3cbc7",
   "metadata": {},
   "outputs": [
    {
     "name": "stdout",
     "output_type": "stream",
     "text": [
      "+--------------------+--------------------+\n",
      "|            features|          prediction|\n",
      "+--------------------+--------------------+\n",
      "|(10,[0,1,2,3,4,5,...| -2.1291459114382367|\n",
      "|(10,[0,1,2,3,4,5,...| -0.8862321530312158|\n",
      "|(10,[0,1,2,3,4,5,...|  -2.655639009307706|\n",
      "|(10,[0,1,2,3,4,5,...| -1.9196123507387894|\n",
      "|(10,[0,1,2,3,4,5,...| -1.1891806926080375|\n",
      "|(10,[0,1,2,3,4,5,...|-0.03146160672959908|\n",
      "|(10,[0,1,2,3,4,5,...|  2.3184435415633255|\n",
      "|(10,[0,1,2,3,4,5,...| -0.3695935771287562|\n",
      "|(10,[0,1,2,3,4,5,...| -2.6604384451534977|\n",
      "|(10,[0,1,2,3,4,5,...|   -1.55571132232169|\n",
      "|(10,[0,1,2,3,4,5,...|  -0.832984412508025|\n",
      "|(10,[0,1,2,3,4,5,...|   2.153324408685861|\n",
      "|(10,[0,1,2,3,4,5,...|  0.4869102719824333|\n",
      "|(10,[0,1,2,3,4,5,...| -1.9081788549467409|\n",
      "|(10,[0,1,2,3,4,5,...|  -5.559904148263277|\n",
      "|(10,[0,1,2,3,4,5,...|  -6.827287507666536|\n",
      "|(10,[0,1,2,3,4,5,...|  -5.219842229281323|\n",
      "|(10,[0,1,2,3,4,5,...| 0.07202955377842779|\n",
      "|(10,[0,1,2,3,4,5,...|   1.430239190394722|\n",
      "|(10,[0,1,2,3,4,5,...|-0.13279256304145903|\n",
      "+--------------------+--------------------+\n",
      "only showing top 20 rows\n",
      "\n"
     ]
    }
   ],
   "source": [
    "predictions = res.transform(unlabelled_features)\n",
    "predictions.show()"
   ]
  },
  {
   "cell_type": "code",
   "execution_count": null,
   "id": "a6ae9fca-150c-4658-b304-dc3e471ff7a7",
   "metadata": {},
   "outputs": [],
   "source": []
  }
 ],
 "metadata": {
  "kernelspec": {
   "display_name": "Python 3 (ipykernel)",
   "language": "python",
   "name": "python3"
  },
  "language_info": {
   "codemirror_mode": {
    "name": "ipython",
    "version": 3
   },
   "file_extension": ".py",
   "mimetype": "text/x-python",
   "name": "python",
   "nbconvert_exporter": "python",
   "pygments_lexer": "ipython3",
   "version": "3.8.10"
  }
 },
 "nbformat": 4,
 "nbformat_minor": 5
}
