{
 "cells": [
  {
   "cell_type": "markdown",
   "id": "5704bfe9-a09d-4e5f-831e-d375cf2f6e74",
   "metadata": {},
   "source": [
    "# Installing pyspark\n",
    "\n",
    "Just pip-installing pyspark isn't enough, and the docs don't make that clear. You need Java JRE and scala. On Ubuntu, you can do:\n",
    "\n",
    "```\n",
    "sudo apt-get update\n",
    "sudo apt-get upgrade\n",
    "sudo apt-get install default-jre\n",
    "sudo apt-get install scala\n",
    "pip3 install pyspark\n",
    "export SPARK_HOME='/home/<YOUR_USER_NAME>/.local/lib/python3.8/site-packages/pyspark'\n",
    "export PYSPARK_PYTHON=python3\n",
    "```"
   ]
  }
 ],
 "metadata": {
  "kernelspec": {
   "display_name": "Python 3 (ipykernel)",
   "language": "python",
   "name": "python3"
  },
  "language_info": {
   "codemirror_mode": {
    "name": "ipython",
    "version": 3
   },
   "file_extension": ".py",
   "mimetype": "text/x-python",
   "name": "python",
   "nbconvert_exporter": "python",
   "pygments_lexer": "ipython3",
   "version": "3.9.6"
  }
 },
 "nbformat": 4,
 "nbformat_minor": 5
}
