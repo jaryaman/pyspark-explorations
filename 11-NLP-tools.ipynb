{
 "cells": [
  {
   "cell_type": "markdown",
   "id": "8522b7d1-206f-4d57-9ef8-e8974bf49e1e",
   "metadata": {},
   "source": [
    "# NLP - 1: NLP tools"
   ]
  },
  {
   "cell_type": "code",
   "execution_count": 1,
   "id": "070a4a8d-5483-412f-a811-9728d4d65ad4",
   "metadata": {},
   "outputs": [],
   "source": [
    "from pyspark.sql import SparkSession"
   ]
  },
  {
   "cell_type": "code",
   "execution_count": 2,
   "id": "44d19ddb-ecaa-4171-8c48-88a8002a16bf",
   "metadata": {},
   "outputs": [
    {
     "name": "stderr",
     "output_type": "stream",
     "text": [
      "21/09/24 10:36:59 WARN Utils: Your hostname, GBLON1WLZ13699 resolves to a loopback address: 127.0.1.1; using 10.164.72.129 instead (on interface eth2)\n",
      "21/09/24 10:36:59 WARN Utils: Set SPARK_LOCAL_IP if you need to bind to another address\n",
      "WARNING: An illegal reflective access operation has occurred\n",
      "WARNING: Illegal reflective access by org.apache.spark.unsafe.Platform (file:/home/juvid/miniconda3/lib/python3.9/site-packages/pyspark/jars/spark-unsafe_2.12-3.1.2.jar) to constructor java.nio.DirectByteBuffer(long,int)\n",
      "WARNING: Please consider reporting this to the maintainers of org.apache.spark.unsafe.Platform\n",
      "WARNING: Use --illegal-access=warn to enable warnings of further illegal reflective access operations\n",
      "WARNING: All illegal access operations will be denied in a future release\n",
      "21/09/24 10:37:01 WARN NativeCodeLoader: Unable to load native-hadoop library for your platform... using builtin-java classes where applicable\n",
      "Using Spark's default log4j profile: org/apache/spark/log4j-defaults.properties\n",
      "Setting default log level to \"WARN\".\n",
      "To adjust logging level use sc.setLogLevel(newLevel). For SparkR, use setLogLevel(newLevel).\n"
     ]
    }
   ],
   "source": [
    "spark = SparkSession.builder.appName('nlp').getOrCreate()"
   ]
  },
  {
   "cell_type": "markdown",
   "id": "257bf264-6415-40f5-a995-8776558967e9",
   "metadata": {},
   "source": [
    "## Tokenization"
   ]
  },
  {
   "cell_type": "code",
   "execution_count": 3,
   "id": "7c644b46-2822-44aa-9fdb-3c7bfacfe185",
   "metadata": {},
   "outputs": [],
   "source": [
    "from pyspark.ml.feature import Tokenizer, RegexTokenizer"
   ]
  },
  {
   "cell_type": "code",
   "execution_count": 5,
   "id": "72146303-30c1-46d8-9ec9-f86a7d777c4a",
   "metadata": {},
   "outputs": [],
   "source": [
    "from pyspark.sql.functions import col, udf\n",
    "from pyspark.sql.types import IntegerType"
   ]
  },
  {
   "cell_type": "code",
   "execution_count": 6,
   "id": "a9fd1f4b-9719-4cef-8a81-c346fd6b474f",
   "metadata": {},
   "outputs": [],
   "source": [
    "sen_df = spark.createDataFrame([\n",
    "    (0, 'Hi I heard about Spark'),\n",
    "    (1, 'I wish java could use case classes'),\n",
    "    (2, 'Logistic,regression,models,are,neat')\n",
    "], ['id','sentence'])"
   ]
  },
  {
   "cell_type": "code",
   "execution_count": 7,
   "id": "37ca7688-150f-47ae-aa1f-35919fe011c7",
   "metadata": {},
   "outputs": [
    {
     "name": "stderr",
     "output_type": "stream",
     "text": [
      "                                                                                \r"
     ]
    },
    {
     "name": "stdout",
     "output_type": "stream",
     "text": [
      "+---+--------------------+\n",
      "| id|            sentence|\n",
      "+---+--------------------+\n",
      "|  0|Hi I heard about ...|\n",
      "|  1|I wish java could...|\n",
      "|  2|Logistic,regressi...|\n",
      "+---+--------------------+\n",
      "\n"
     ]
    }
   ],
   "source": [
    "sen_df.show()"
   ]
  },
  {
   "cell_type": "code",
   "execution_count": 8,
   "id": "531bdcc2-2a09-4f78-aeb1-8b23ac0e2903",
   "metadata": {},
   "outputs": [],
   "source": [
    "tokenizer = Tokenizer(inputCol='sentence', outputCol='words')"
   ]
  },
  {
   "cell_type": "code",
   "execution_count": 19,
   "id": "a49b24dd-2a1f-4597-8c4f-e64e3a9faddc",
   "metadata": {},
   "outputs": [],
   "source": [
    "regex_tokenizer = RegexTokenizer(inputCol='sentence', outputCol='words', pattern='\\\\W') \n",
    "# \\W is a character that is not a word character, so you can split on multiple special characters"
   ]
  },
  {
   "cell_type": "code",
   "execution_count": 13,
   "id": "dd21e526-acb6-4cfd-bb37-b835a8196236",
   "metadata": {},
   "outputs": [],
   "source": [
    "count_tokens = udf(lambda words: len(words), IntegerType())  # user-defined function"
   ]
  },
  {
   "cell_type": "code",
   "execution_count": 14,
   "id": "a507124f-83f3-406b-94ef-d7621cb7ef1d",
   "metadata": {},
   "outputs": [],
   "source": [
    "tokenized = tokenizer.transform(sen_df)"
   ]
  },
  {
   "cell_type": "code",
   "execution_count": 15,
   "id": "d30895d4-3b59-43a4-bbc0-623425569b80",
   "metadata": {},
   "outputs": [
    {
     "name": "stdout",
     "output_type": "stream",
     "text": [
      "+---+--------------------+--------------------+\n",
      "| id|            sentence|               words|\n",
      "+---+--------------------+--------------------+\n",
      "|  0|Hi I heard about ...|[hi, i, heard, ab...|\n",
      "|  1|I wish java could...|[i, wish, java, c...|\n",
      "|  2|Logistic,regressi...|[logistic,regress...|\n",
      "+---+--------------------+--------------------+\n",
      "\n"
     ]
    }
   ],
   "source": [
    "tokenized.show()"
   ]
  },
  {
   "cell_type": "markdown",
   "id": "5a69159d-3b66-41ec-9321-086c7902397b",
   "metadata": {},
   "source": [
    "It doesn't look like the third sentence has been tokenized. Let's check"
   ]
  },
  {
   "cell_type": "code",
   "execution_count": 17,
   "id": "c8184a07-fb0a-4b78-a898-bb92f2540339",
   "metadata": {},
   "outputs": [
    {
     "name": "stderr",
     "output_type": "stream",
     "text": [
      "[Stage 5:>                                                          (0 + 3) / 3]\r"
     ]
    },
    {
     "name": "stdout",
     "output_type": "stream",
     "text": [
      "+---+--------------------+--------------------+------+\n",
      "| id|            sentence|               words|tokens|\n",
      "+---+--------------------+--------------------+------+\n",
      "|  0|Hi I heard about ...|[hi, i, heard, ab...|     5|\n",
      "|  1|I wish java could...|[i, wish, java, c...|     7|\n",
      "|  2|Logistic,regressi...|[logistic,regress...|     1|\n",
      "+---+--------------------+--------------------+------+\n",
      "\n"
     ]
    },
    {
     "name": "stderr",
     "output_type": "stream",
     "text": [
      "                                                                                \r"
     ]
    }
   ],
   "source": [
    "tokenized.withColumn('tokens', count_tokens(col('words'))).show()"
   ]
  },
  {
   "cell_type": "markdown",
   "id": "7a983888-6f30-4730-af4a-4a08874f4012",
   "metadata": {},
   "source": [
    "Yup, the standard tokenizer didn't work."
   ]
  },
  {
   "cell_type": "code",
   "execution_count": 20,
   "id": "045e2fcf-ba25-42e3-ae79-c15b04242d24",
   "metadata": {},
   "outputs": [],
   "source": [
    "rg_tokenized = regex_tokenizer.transform(sen_df)"
   ]
  },
  {
   "cell_type": "code",
   "execution_count": 21,
   "id": "e495274d-8ff8-4d31-ac44-901bbc27cca3",
   "metadata": {},
   "outputs": [
    {
     "name": "stderr",
     "output_type": "stream",
     "text": [
      "[Stage 7:>                                                          (0 + 3) / 3]\r"
     ]
    },
    {
     "name": "stdout",
     "output_type": "stream",
     "text": [
      "+---+--------------------+--------------------+------+\n",
      "| id|            sentence|               words|tokens|\n",
      "+---+--------------------+--------------------+------+\n",
      "|  0|Hi I heard about ...|[hi, i, heard, ab...|     5|\n",
      "|  1|I wish java could...|[i, wish, java, c...|     7|\n",
      "|  2|Logistic,regressi...|[logistic, regres...|     5|\n",
      "+---+--------------------+--------------------+------+\n",
      "\n"
     ]
    },
    {
     "name": "stderr",
     "output_type": "stream",
     "text": [
      "                                                                                \r"
     ]
    }
   ],
   "source": [
    "rg_tokenized.withColumn('tokens', count_tokens(col('words'))).show()"
   ]
  },
  {
   "cell_type": "markdown",
   "id": "8ee7df18-cc5a-45bc-93ff-a035d64e728a",
   "metadata": {},
   "source": [
    "Noice."
   ]
  },
  {
   "cell_type": "markdown",
   "id": "62455011-8aa4-4f50-a51a-0f7175350e75",
   "metadata": {},
   "source": [
    "## Stop word removal"
   ]
  },
  {
   "cell_type": "markdown",
   "id": "8a1ec0d9-56f1-4d60-a59a-1d14a0e8b06b",
   "metadata": {},
   "source": [
    "Remove very common words which don't have much meaning."
   ]
  },
  {
   "cell_type": "code",
   "execution_count": 22,
   "id": "875ce206-12fd-4f34-9cbd-5dca860e4cc1",
   "metadata": {},
   "outputs": [],
   "source": [
    "from pyspark.ml.feature import StopWordsRemover"
   ]
  },
  {
   "cell_type": "code",
   "execution_count": 23,
   "id": "102d4216-98a3-411b-a699-5f5cbfada390",
   "metadata": {},
   "outputs": [],
   "source": [
    "sentenceDataFrame = spark.createDataFrame([\n",
    "    (0, ['I', 'saw', 'the', 'green', 'horse']),\n",
    "    (1, ['Mary', 'had', 'a', 'little', 'lamb'])\n",
    "], ['id', 'tokens'])"
   ]
  },
  {
   "cell_type": "code",
   "execution_count": 24,
   "id": "e3a4032b-b6b5-411a-a381-63480030c9f9",
   "metadata": {},
   "outputs": [],
   "source": [
    "remover = StopWordsRemover(inputCol='tokens', outputCol='filtered')"
   ]
  },
  {
   "cell_type": "code",
   "execution_count": 25,
   "id": "006a8d30-3b1e-4e73-858b-538036dfd361",
   "metadata": {},
   "outputs": [
    {
     "name": "stdout",
     "output_type": "stream",
     "text": [
      "+---+--------------------+--------------------+\n",
      "| id|              tokens|            filtered|\n",
      "+---+--------------------+--------------------+\n",
      "|  0|[I, saw, the, gre...| [saw, green, horse]|\n",
      "|  1|[Mary, had, a, li...|[Mary, little, lamb]|\n",
      "+---+--------------------+--------------------+\n",
      "\n"
     ]
    },
    {
     "name": "stderr",
     "output_type": "stream",
     "text": [
      "                                                                                \r"
     ]
    }
   ],
   "source": [
    "remover.transform(sentenceDataFrame).show()"
   ]
  },
  {
   "cell_type": "markdown",
   "id": "9f774abf-da8b-4d97-9dd3-ddf448d08e9c",
   "metadata": {},
   "source": [
    "## N-gram generation\n",
    "\n",
    "Transform input sequence of strings, into concatenations of consecutive words of length N"
   ]
  },
  {
   "cell_type": "code",
   "execution_count": 26,
   "id": "8bc04cc2-88e1-44ef-8163-8bec4dd59e43",
   "metadata": {},
   "outputs": [],
   "source": [
    "from pyspark.ml.feature import NGram"
   ]
  },
  {
   "cell_type": "code",
   "execution_count": 27,
   "id": "37692547-abef-4084-9e7e-c72929d486ee",
   "metadata": {},
   "outputs": [],
   "source": [
    "word_dataframe = spark.createDataFrame([\n",
    "    (0, ['Hi', 'I', 'heard', 'about', 'Spark']),\n",
    "    (1, ['I', 'wish', 'java', 'could', 'use', 'case', 'classes']),\n",
    "    (2, ['Logistic', 'regression', 'models', 'are', 'neat'])\n",
    "], ['id','words'])"
   ]
  },
  {
   "cell_type": "code",
   "execution_count": 28,
   "id": "17257391-ef1f-4b2a-82fe-eb23fdc3e6c4",
   "metadata": {},
   "outputs": [],
   "source": [
    "ngram = NGram(n=2, inputCol='words', outputCol='grams')"
   ]
  },
  {
   "cell_type": "code",
   "execution_count": 30,
   "id": "9629917b-8916-418a-b27c-7f8db549d5bf",
   "metadata": {},
   "outputs": [
    {
     "name": "stderr",
     "output_type": "stream",
     "text": [
      "                                                                                \r"
     ]
    },
    {
     "name": "stdout",
     "output_type": "stream",
     "text": [
      "+---+------------------------------------------+------------------------------------------------------------------+\n",
      "|id |words                                     |grams                                                             |\n",
      "+---+------------------------------------------+------------------------------------------------------------------+\n",
      "|0  |[Hi, I, heard, about, Spark]              |[Hi I, I heard, heard about, about Spark]                         |\n",
      "|1  |[I, wish, java, could, use, case, classes]|[I wish, wish java, java could, could use, use case, case classes]|\n",
      "|2  |[Logistic, regression, models, are, neat] |[Logistic regression, regression models, models are, are neat]    |\n",
      "+---+------------------------------------------+------------------------------------------------------------------+\n",
      "\n"
     ]
    }
   ],
   "source": [
    "ngram.transform(word_dataframe).show(truncate=False)"
   ]
  },
  {
   "cell_type": "markdown",
   "id": "4967357e-ad61-40d8-8d39-5fcf1dcf2cb6",
   "metadata": {},
   "source": [
    "## Term frequency-inverse document frequency\n",
    "\n",
    "A statistic to assign word importance to a corpus of documents"
   ]
  },
  {
   "cell_type": "code",
   "execution_count": 31,
   "id": "6b6d28a2-abc1-4757-89d6-6ce19e6f91e2",
   "metadata": {},
   "outputs": [],
   "source": [
    "from pyspark.ml.feature import HashingTF, IDF, Tokenizer"
   ]
  },
  {
   "cell_type": "code",
   "execution_count": 37,
   "id": "a8552074-13cd-42f7-b907-5713b5bf31aa",
   "metadata": {},
   "outputs": [],
   "source": [
    "sen_df = spark.createDataFrame([\n",
    "    (0, 'Hi I heard about Spark'),\n",
    "    (0, 'I wish java could use case classes'),  # note this belongs to the first document\n",
    "    (1, 'Logistic regression models are neat')\n",
    "], ['id','sentence'])"
   ]
  },
  {
   "cell_type": "code",
   "execution_count": 38,
   "id": "b27326b6-b7f7-4735-a7d7-31f8f927302b",
   "metadata": {},
   "outputs": [],
   "source": [
    "tokenizer = Tokenizer(inputCol='sentence', outputCol='words')"
   ]
  },
  {
   "cell_type": "code",
   "execution_count": 39,
   "id": "7e009bd9-a877-4e2b-9b6f-57f24ee1cecd",
   "metadata": {},
   "outputs": [],
   "source": [
    "words_data = tokenizer.transform(sen_df)"
   ]
  },
  {
   "cell_type": "code",
   "execution_count": 40,
   "id": "14cd10e3-42be-4bbd-a108-fc19f285550d",
   "metadata": {},
   "outputs": [
    {
     "name": "stdout",
     "output_type": "stream",
     "text": [
      "+---+--------------------+--------------------+\n",
      "| id|            sentence|               words|\n",
      "+---+--------------------+--------------------+\n",
      "|  0|Hi I heard about ...|[hi, i, heard, ab...|\n",
      "|  0|I wish java could...|[i, wish, java, c...|\n",
      "|  1|Logistic regressi...|[logistic, regres...|\n",
      "+---+--------------------+--------------------+\n",
      "\n"
     ]
    }
   ],
   "source": [
    "words_data.show()"
   ]
  },
  {
   "cell_type": "code",
   "execution_count": 41,
   "id": "594496b3-2e7b-428a-a62e-a0c3c10b7c55",
   "metadata": {},
   "outputs": [],
   "source": [
    "hashing_tf = HashingTF(inputCol='words', outputCol='rawFeatures')"
   ]
  },
  {
   "cell_type": "code",
   "execution_count": 42,
   "id": "b91bed4e-856d-44e3-a8b4-875f1a00c4f0",
   "metadata": {},
   "outputs": [],
   "source": [
    "featurized_data = hashing_tf.transform(words_data)"
   ]
  },
  {
   "cell_type": "code",
   "execution_count": 43,
   "id": "ea6063c7-b3f6-4d1c-acee-758737b374cd",
   "metadata": {},
   "outputs": [],
   "source": [
    "idf = IDF(inputCol='rawFeatures', outputCol='features')"
   ]
  },
  {
   "cell_type": "code",
   "execution_count": 44,
   "id": "25d351e1-4464-4e46-b2c4-51872a6f48af",
   "metadata": {},
   "outputs": [
    {
     "name": "stderr",
     "output_type": "stream",
     "text": [
      "                                                                                \r"
     ]
    }
   ],
   "source": [
    "idf_model = idf.fit(featurized_data)"
   ]
  },
  {
   "cell_type": "code",
   "execution_count": 45,
   "id": "848075cd-c9b8-4578-bac8-76d20138fea9",
   "metadata": {},
   "outputs": [],
   "source": [
    "rescaled_data = idf_model.transform(featurized_data)"
   ]
  },
  {
   "cell_type": "code",
   "execution_count": 48,
   "id": "67de6ddc-7607-428a-b2c0-e224ec4b5305",
   "metadata": {},
   "outputs": [
    {
     "name": "stderr",
     "output_type": "stream",
     "text": [
      "21/09/24 12:10:52 WARN DAGScheduler: Broadcasting large task binary with size 4.0 MiB\n",
      "21/09/24 12:10:52 WARN DAGScheduler: Broadcasting large task binary with size 4.0 MiB\n"
     ]
    },
    {
     "name": "stdout",
     "output_type": "stream",
     "text": [
      "+---+----------------------------------------------------------------------------------------------------------------------------------------------------------------------------------------------+\n",
      "|id |features                                                                                                                                                                                      |\n",
      "+---+----------------------------------------------------------------------------------------------------------------------------------------------------------------------------------------------+\n",
      "|0  |(262144,[18700,19036,33808,66273,173558],[0.6931471805599453,0.28768207245178085,0.6931471805599453,0.6931471805599453,0.6931471805599453])                                                   |\n",
      "|0  |(262144,[19036,20719,55551,58672,98717,109547,192310],[0.28768207245178085,0.6931471805599453,0.6931471805599453,0.6931471805599453,0.6931471805599453,0.6931471805599453,0.6931471805599453])|\n",
      "|1  |(262144,[46243,58267,91006,160975,190884],[0.6931471805599453,0.6931471805599453,0.6931471805599453,0.6931471805599453,0.6931471805599453])                                                   |\n",
      "+---+----------------------------------------------------------------------------------------------------------------------------------------------------------------------------------------------+\n",
      "\n"
     ]
    }
   ],
   "source": [
    "rescaled_data.select('id', 'features').show(truncate=False)"
   ]
  },
  {
   "cell_type": "markdown",
   "id": "7dfc8b1d-bdcb-47e7-a137-b06c1ba29623",
   "metadata": {},
   "source": [
    "We get two features per word -- the term frequency and the inverse document frequency. Tf-idf is simply the product of these two features."
   ]
  },
  {
   "cell_type": "markdown",
   "id": "5c165541-4544-4199-97c5-5978d66b6f8f",
   "metadata": {},
   "source": [
    "## Count vectorizer\n",
    "\n",
    "Bag of words method to get counts of each word"
   ]
  },
  {
   "cell_type": "code",
   "execution_count": 49,
   "id": "3a4d3cd9-7cde-4c11-84d2-c7f52ba950f8",
   "metadata": {},
   "outputs": [],
   "source": [
    "from pyspark.ml.feature import CountVectorizer"
   ]
  },
  {
   "cell_type": "code",
   "execution_count": 50,
   "id": "2f99f692-7cc5-479d-a7fa-a915b106e30d",
   "metadata": {},
   "outputs": [
    {
     "name": "stderr",
     "output_type": "stream",
     "text": [
      "                                                                                \r"
     ]
    },
    {
     "name": "stdout",
     "output_type": "stream",
     "text": [
      "+---+---------------+\n",
      "| id|          words|\n",
      "+---+---------------+\n",
      "|  0|      [a, b, c]|\n",
      "|  0|[a, b, b, c, a]|\n",
      "+---+---------------+\n",
      "\n"
     ]
    }
   ],
   "source": [
    "df = spark.createDataFrame([\n",
    "    (0, \"a b c\".split(\" \")),\n",
    "    (0, \"a b b c a\".split(\" \")),\n",
    "], ['id', 'words'])\n",
    "df.show()"
   ]
  },
  {
   "cell_type": "code",
   "execution_count": 51,
   "id": "52e25cb6-318f-4e2f-b875-666e33b94995",
   "metadata": {},
   "outputs": [],
   "source": [
    "cv = CountVectorizer(inputCol='words', outputCol='features', vocabSize=3, minDF=2.0)"
   ]
  },
  {
   "cell_type": "code",
   "execution_count": 52,
   "id": "eff9ddb8-6171-4113-bc30-a585da2bc255",
   "metadata": {},
   "outputs": [
    {
     "name": "stderr",
     "output_type": "stream",
     "text": [
      "                                                                                \r"
     ]
    }
   ],
   "source": [
    "model = cv.fit(df)"
   ]
  },
  {
   "cell_type": "code",
   "execution_count": 53,
   "id": "60692f01-fda1-4e82-9cf6-b6dec6692b27",
   "metadata": {},
   "outputs": [],
   "source": [
    "result = model.transform(df)"
   ]
  },
  {
   "cell_type": "code",
   "execution_count": 54,
   "id": "c56667a4-fe23-4d0b-b936-95407d775e2f",
   "metadata": {},
   "outputs": [
    {
     "name": "stdout",
     "output_type": "stream",
     "text": [
      "+---+---------------+-------------------------+\n",
      "|id |words          |features                 |\n",
      "+---+---------------+-------------------------+\n",
      "|0  |[a, b, c]      |(3,[0,1,2],[1.0,1.0,1.0])|\n",
      "|0  |[a, b, b, c, a]|(3,[0,1,2],[2.0,2.0,1.0])|\n",
      "+---+---------------+-------------------------+\n",
      "\n"
     ]
    }
   ],
   "source": [
    "result.show(truncate=False)"
   ]
  },
  {
   "cell_type": "code",
   "execution_count": null,
   "id": "f55faaab-9e75-44be-a955-c04c88918174",
   "metadata": {},
   "outputs": [],
   "source": []
  }
 ],
 "metadata": {
  "kernelspec": {
   "display_name": "Python 3 (ipykernel)",
   "language": "python",
   "name": "python3"
  },
  "language_info": {
   "codemirror_mode": {
    "name": "ipython",
    "version": 3
   },
   "file_extension": ".py",
   "mimetype": "text/x-python",
   "name": "python",
   "nbconvert_exporter": "python",
   "pygments_lexer": "ipython3",
   "version": "3.9.5"
  }
 },
 "nbformat": 4,
 "nbformat_minor": 5
}
