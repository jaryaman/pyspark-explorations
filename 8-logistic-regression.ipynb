{
 "cells": [
  {
   "cell_type": "markdown",
   "id": "84092fe9-ca85-42fc-be2e-a126c15efe28",
   "metadata": {},
   "source": [
    "# Logistic regression"
   ]
  },
  {
   "cell_type": "code",
   "execution_count": 1,
   "id": "c531f734-fd88-4de9-b4f0-997c898e1dcc",
   "metadata": {},
   "outputs": [],
   "source": [
    "from pathlib import Path\n",
    "data_path = Path('/home/juvid/Python-and-Spark-for-Big-Data-master/Course_Notes/Spark_for_Machine_Learning/Logistic_Regression/sample_libsvm_data.txt')"
   ]
  },
  {
   "cell_type": "code",
   "execution_count": 2,
   "id": "d4fdb97d-78ef-4365-b6f5-33a8008a5c49",
   "metadata": {},
   "outputs": [],
   "source": [
    "from pyspark.ml.classification import LogisticRegression"
   ]
  },
  {
   "cell_type": "code",
   "execution_count": 3,
   "id": "4a8050f6-0f53-4010-b5c8-1429a6fb097e",
   "metadata": {},
   "outputs": [],
   "source": [
    "from pyspark.sql import SparkSession"
   ]
  },
  {
   "cell_type": "code",
   "execution_count": 4,
   "id": "6f00ec3a-864d-4d6e-b6da-4f0938b54bc8",
   "metadata": {},
   "outputs": [
    {
     "name": "stderr",
     "output_type": "stream",
     "text": [
      "21/08/13 09:00:41 WARN Utils: Your hostname, GBLON1WLZ13699 resolves to a loopback address: 127.0.1.1; using 10.164.76.148 instead (on interface eth2)\n",
      "21/08/13 09:00:41 WARN Utils: Set SPARK_LOCAL_IP if you need to bind to another address\n",
      "WARNING: An illegal reflective access operation has occurred\n",
      "WARNING: Illegal reflective access by org.apache.spark.unsafe.Platform (file:/home/juvid/.local/lib/python3.8/site-packages/pyspark/jars/spark-unsafe_2.12-3.1.2.jar) to constructor java.nio.DirectByteBuffer(long,int)\n",
      "WARNING: Please consider reporting this to the maintainers of org.apache.spark.unsafe.Platform\n",
      "WARNING: Use --illegal-access=warn to enable warnings of further illegal reflective access operations\n",
      "WARNING: All illegal access operations will be denied in a future release\n",
      "21/08/13 09:00:48 WARN NativeCodeLoader: Unable to load native-hadoop library for your platform... using builtin-java classes where applicable\n",
      "Using Spark's default log4j profile: org/apache/spark/log4j-defaults.properties\n",
      "Setting default log level to \"WARN\".\n",
      "To adjust logging level use sc.setLogLevel(newLevel). For SparkR, use setLogLevel(newLevel).\n"
     ]
    }
   ],
   "source": [
    "spark = SparkSession.builder.appName('lg').getOrCreate()"
   ]
  },
  {
   "cell_type": "code",
   "execution_count": 5,
   "id": "997efeaf-b175-4eec-b1ba-890067fb36ad",
   "metadata": {},
   "outputs": [
    {
     "name": "stderr",
     "output_type": "stream",
     "text": [
      "21/08/13 09:00:54 WARN LibSVMFileFormat: 'numFeatures' option not specified, determining the number of features by going though the input. If you know the number in advance, please specify it via 'numFeatures' option to avoid the extra scan.\n",
      "                                                                                \r"
     ]
    }
   ],
   "source": [
    "df = spark.read.format('libsvm').load(str(data_path))"
   ]
  },
  {
   "cell_type": "code",
   "execution_count": 6,
   "id": "97913e46-6c65-4037-acf1-b06824e9b9e4",
   "metadata": {},
   "outputs": [
    {
     "name": "stdout",
     "output_type": "stream",
     "text": [
      "+-----+--------------------+\n",
      "|label|            features|\n",
      "+-----+--------------------+\n",
      "|  0.0|(692,[127,128,129...|\n",
      "|  1.0|(692,[158,159,160...|\n",
      "|  1.0|(692,[124,125,126...|\n",
      "|  1.0|(692,[152,153,154...|\n",
      "|  1.0|(692,[151,152,153...|\n",
      "|  0.0|(692,[129,130,131...|\n",
      "|  1.0|(692,[158,159,160...|\n",
      "|  1.0|(692,[99,100,101,...|\n",
      "|  0.0|(692,[154,155,156...|\n",
      "|  0.0|(692,[127,128,129...|\n",
      "|  1.0|(692,[154,155,156...|\n",
      "|  0.0|(692,[153,154,155...|\n",
      "|  0.0|(692,[151,152,153...|\n",
      "|  1.0|(692,[129,130,131...|\n",
      "|  0.0|(692,[154,155,156...|\n",
      "|  1.0|(692,[150,151,152...|\n",
      "|  0.0|(692,[124,125,126...|\n",
      "|  0.0|(692,[152,153,154...|\n",
      "|  1.0|(692,[97,98,99,12...|\n",
      "|  1.0|(692,[124,125,126...|\n",
      "+-----+--------------------+\n",
      "only showing top 20 rows\n",
      "\n"
     ]
    }
   ],
   "source": [
    "df.show()"
   ]
  },
  {
   "cell_type": "code",
   "execution_count": 7,
   "id": "109d0d33-802a-45a1-a344-8f418ff48628",
   "metadata": {},
   "outputs": [],
   "source": [
    "log_reg_model = LogisticRegression()"
   ]
  },
  {
   "cell_type": "code",
   "execution_count": 8,
   "id": "4fa229d3-3dde-48dd-9ff1-50f40601f2a0",
   "metadata": {},
   "outputs": [
    {
     "name": "stderr",
     "output_type": "stream",
     "text": [
      "21/08/13 09:01:04 WARN BLAS: Failed to load implementation from: com.github.fommil.netlib.NativeSystemBLAS\n",
      "21/08/13 09:01:04 WARN BLAS: Failed to load implementation from: com.github.fommil.netlib.NativeRefBLAS\n"
     ]
    }
   ],
   "source": [
    "model = log_reg_model.fit(df)"
   ]
  },
  {
   "cell_type": "code",
   "execution_count": 9,
   "id": "77e375ec-a7a5-4b25-bca8-c8124cedea8b",
   "metadata": {},
   "outputs": [
    {
     "name": "stdout",
     "output_type": "stream",
     "text": [
      "root\n",
      " |-- label: double (nullable = true)\n",
      " |-- features: vector (nullable = true)\n",
      " |-- rawPrediction: vector (nullable = true)\n",
      " |-- probability: vector (nullable = true)\n",
      " |-- prediction: double (nullable = false)\n",
      "\n"
     ]
    }
   ],
   "source": [
    "summary = model.summary\n",
    "summary.predictions.printSchema()"
   ]
  },
  {
   "cell_type": "code",
   "execution_count": 10,
   "id": "5b4f52a4-02ef-4e29-a3a0-2ef2fa890085",
   "metadata": {},
   "outputs": [
    {
     "name": "stdout",
     "output_type": "stream",
     "text": [
      "+-----+--------------------+--------------------+--------------------+----------+\n",
      "|label|            features|       rawPrediction|         probability|prediction|\n",
      "+-----+--------------------+--------------------+--------------------+----------+\n",
      "|  0.0|(692,[127,128,129...|[19.8534775947478...|[0.99999999761359...|       0.0|\n",
      "|  1.0|(692,[158,159,160...|[-20.377398194908...|[1.41321555111051...|       1.0|\n",
      "|  1.0|(692,[124,125,126...|[-27.401459284891...|[1.25804865126979...|       1.0|\n",
      "|  1.0|(692,[152,153,154...|[-18.862741612668...|[6.42710509170301...|       1.0|\n",
      "|  1.0|(692,[151,152,153...|[-20.483011833009...|[1.27157209200602...|       1.0|\n",
      "|  0.0|(692,[129,130,131...|[19.8506078990277...|[0.99999999760673...|       0.0|\n",
      "|  1.0|(692,[158,159,160...|[-20.337256674833...|[1.47109814695578...|       1.0|\n",
      "|  1.0|(692,[99,100,101,...|[-19.595579753418...|[3.08850168102648...|       1.0|\n",
      "|  0.0|(692,[154,155,156...|[19.2708803215613...|[0.99999999572670...|       0.0|\n",
      "|  0.0|(692,[127,128,129...|[23.6202328360423...|[0.99999999994480...|       0.0|\n",
      "|  1.0|(692,[154,155,156...|[-24.385235147661...|[2.56818872776502...|       1.0|\n",
      "|  0.0|(692,[153,154,155...|[26.3082522490179...|[0.99999999999624...|       0.0|\n",
      "|  0.0|(692,[151,152,153...|[25.8329060318703...|[0.99999999999396...|       0.0|\n",
      "|  1.0|(692,[129,130,131...|[-19.794609139086...|[2.53110684529571...|       1.0|\n",
      "|  0.0|(692,[154,155,156...|[21.0260440948067...|[0.99999999926123...|       0.0|\n",
      "|  1.0|(692,[150,151,152...|[-22.764979942873...|[1.29806018790937...|       1.0|\n",
      "|  0.0|(692,[124,125,126...|[21.5049307193955...|[0.99999999954235...|       0.0|\n",
      "|  0.0|(692,[152,153,154...|[31.9927184226421...|[0.99999999999998...|       0.0|\n",
      "|  1.0|(692,[97,98,99,12...|[-20.521067180414...|[1.22409115616507...|       1.0|\n",
      "|  1.0|(692,[124,125,126...|[-22.245377742755...|[2.18250475400325...|       1.0|\n",
      "+-----+--------------------+--------------------+--------------------+----------+\n",
      "only showing top 20 rows\n",
      "\n"
     ]
    }
   ],
   "source": [
    "summary.predictions.show()"
   ]
  },
  {
   "cell_type": "code",
   "execution_count": 11,
   "id": "26a9b17a-a2f6-47a4-9ded-84a237176d7c",
   "metadata": {},
   "outputs": [],
   "source": [
    "train_data, test_data = df.randomSplit([0.7,0.3])"
   ]
  },
  {
   "cell_type": "code",
   "execution_count": 12,
   "id": "da9549c2-5ff2-43d8-a9b0-c06136fc3ff7",
   "metadata": {},
   "outputs": [],
   "source": [
    "fit = log_reg_model.fit(train_data)"
   ]
  },
  {
   "cell_type": "code",
   "execution_count": 13,
   "id": "057debde-0b11-48c6-9057-132a3ab52817",
   "metadata": {},
   "outputs": [],
   "source": [
    "predictions = fit.evaluate(test_data)"
   ]
  },
  {
   "cell_type": "code",
   "execution_count": 14,
   "id": "0ccbaa66-2ed8-4a87-8319-ae68c80c37b0",
   "metadata": {},
   "outputs": [
    {
     "name": "stdout",
     "output_type": "stream",
     "text": [
      "+-----+--------------------+--------------------+--------------------+----------+\n",
      "|label|            features|       rawPrediction|         probability|prediction|\n",
      "+-----+--------------------+--------------------+--------------------+----------+\n",
      "|  0.0|(692,[98,99,100,1...|[22.3349609001251...|[0.99999999980045...|       0.0|\n",
      "|  0.0|(692,[100,101,102...|[9.79780917009642...|[0.99994442987058...|       0.0|\n",
      "|  0.0|(692,[122,123,148...|[22.2922011501123...|[0.99999999979173...|       0.0|\n",
      "|  0.0|(692,[124,125,126...|[27.0966140909980...|[0.99999999999829...|       0.0|\n",
      "|  0.0|(692,[124,125,126...|[21.9111753228474...|[0.99999999969514...|       0.0|\n",
      "|  0.0|(692,[124,125,126...|[21.5533752312619...|[0.99999999956399...|       0.0|\n",
      "|  0.0|(692,[126,127,128...|[31.3753676275591...|[0.99999999999997...|       0.0|\n",
      "|  0.0|(692,[127,128,129...|[22.0880633843459...|[0.99999999974456...|       0.0|\n",
      "|  0.0|(692,[127,128,129...|[22.9704703677922...|[0.99999999989430...|       0.0|\n",
      "|  0.0|(692,[152,153,154...|[14.6328223323246...|[0.99999955838296...|       0.0|\n",
      "|  0.0|(692,[181,182,183...|[22.0623285022822...|[0.99999999973790...|       0.0|\n",
      "|  1.0|(692,[123,124,125...|[-25.722853969738...|[6.74072271003046...|       1.0|\n",
      "|  1.0|(692,[123,124,125...|[-16.846628236385...|[4.82616646175613...|       1.0|\n",
      "|  1.0|(692,[125,126,153...|[-21.813344208134...|[3.36190144940097...|       1.0|\n",
      "|  1.0|(692,[126,127,128...|[-31.663689835407...|[1.77269584917729...|       1.0|\n",
      "|  1.0|(692,[126,127,128...|[-31.378100458010...|[2.35865335504261...|       1.0|\n",
      "|  1.0|(692,[128,129,155...|[-20.522434628902...|[1.22241841851847...|       1.0|\n",
      "|  1.0|(692,[129,130,131...|[-2.9138058090110...|[0.05147529707894...|       1.0|\n",
      "|  1.0|(692,[129,130,131...|[-25.616955346207...|[7.49372324676185...|       1.0|\n",
      "|  1.0|(692,[129,130,131...|[-20.298961922733...|[1.52852606165949...|       1.0|\n",
      "+-----+--------------------+--------------------+--------------------+----------+\n",
      "only showing top 20 rows\n",
      "\n"
     ]
    }
   ],
   "source": [
    "predictions.predictions.show()"
   ]
  },
  {
   "cell_type": "markdown",
   "id": "70690e73-d7cb-4d7e-8ce7-8938a3b4d8d2",
   "metadata": {},
   "source": [
    "## Using evaluators"
   ]
  },
  {
   "cell_type": "code",
   "execution_count": 15,
   "id": "770a1716-6f64-4e94-a05f-ca85023c3f79",
   "metadata": {},
   "outputs": [],
   "source": [
    "from pyspark.ml.evaluation import BinaryClassificationEvaluator, MulticlassClassificationEvaluator"
   ]
  },
  {
   "cell_type": "code",
   "execution_count": 16,
   "id": "b85e2441-6b01-4bb0-bda4-3c27e2c40f7d",
   "metadata": {},
   "outputs": [],
   "source": [
    "my_eval = BinaryClassificationEvaluator()"
   ]
  },
  {
   "cell_type": "code",
   "execution_count": 17,
   "id": "be6bd6b4-e0ed-4a03-8aea-f8506f2b4582",
   "metadata": {},
   "outputs": [
    {
     "data": {
      "text/plain": [
       "1.0"
      ]
     },
     "execution_count": 17,
     "metadata": {},
     "output_type": "execute_result"
    }
   ],
   "source": [
    "roc = my_eval.evaluate(predictions.predictions)\n",
    "roc"
   ]
  },
  {
   "cell_type": "code",
   "execution_count": 18,
   "id": "1699dd64-c305-4202-a129-00b01004772f",
   "metadata": {},
   "outputs": [
    {
     "data": {
      "text/plain": [
       "BinaryClassificationEvaluator_32971474bfef"
      ]
     },
     "execution_count": 18,
     "metadata": {},
     "output_type": "execute_result"
    }
   ],
   "source": [
    "my_eval"
   ]
  },
  {
   "cell_type": "markdown",
   "id": "90e2e9ff-d9b9-45b1-b84a-0cbc9232945c",
   "metadata": {},
   "source": [
    "# Using pipelines on the Titanic dataset"
   ]
  },
  {
   "cell_type": "code",
   "execution_count": 21,
   "id": "a80bab54-8938-4e01-8d23-6bcda5abeca9",
   "metadata": {},
   "outputs": [],
   "source": [
    "data_dir = Path('/home/juvid/Python-and-Spark-for-Big-Data-master/Spark_for_Machine_Learning/Logistic_Regression/titanic.csv')"
   ]
  },
  {
   "cell_type": "code",
   "execution_count": 22,
   "id": "0f644cfe-60bf-40fa-98e7-a94afc9730a0",
   "metadata": {},
   "outputs": [],
   "source": [
    "df = spark.read.csv(str(data_dir), header=True, inferSchema=True)"
   ]
  },
  {
   "cell_type": "code",
   "execution_count": 24,
   "id": "f00d1a6e-67bb-4c4c-88e8-23b62f6d4e6a",
   "metadata": {},
   "outputs": [
    {
     "name": "stdout",
     "output_type": "stream",
     "text": [
      "root\n",
      " |-- PassengerId: integer (nullable = true)\n",
      " |-- Survived: integer (nullable = true)\n",
      " |-- Pclass: integer (nullable = true)\n",
      " |-- Name: string (nullable = true)\n",
      " |-- Sex: string (nullable = true)\n",
      " |-- Age: double (nullable = true)\n",
      " |-- SibSp: integer (nullable = true)\n",
      " |-- Parch: integer (nullable = true)\n",
      " |-- Ticket: string (nullable = true)\n",
      " |-- Fare: double (nullable = true)\n",
      " |-- Cabin: string (nullable = true)\n",
      " |-- Embarked: string (nullable = true)\n",
      "\n"
     ]
    }
   ],
   "source": [
    "df.printSchema()"
   ]
  },
  {
   "cell_type": "code",
   "execution_count": 26,
   "id": "e3b8da2e-f07d-424f-b890-ca2e60dad7ee",
   "metadata": {},
   "outputs": [],
   "source": [
    "cols_of_interest = ['Survived', 'Pclass','Sex',\n",
    " 'Age',\n",
    " 'SibSp',\n",
    " 'Parch','Fare','Embarked']"
   ]
  },
  {
   "cell_type": "code",
   "execution_count": 27,
   "id": "f1521db7-b100-4aa1-8a69-e904ea3dd30c",
   "metadata": {},
   "outputs": [],
   "source": [
    "df_filtered = df.select(cols_of_interest)"
   ]
  },
  {
   "cell_type": "markdown",
   "id": "a78d14ed-f827-471a-b5bc-3a1ad4c82c0b",
   "metadata": {},
   "source": [
    "Let's drop missing data"
   ]
  },
  {
   "cell_type": "code",
   "execution_count": 29,
   "id": "57e55395-182d-457b-9322-d71cb513e296",
   "metadata": {},
   "outputs": [],
   "source": [
    "df_clean = df_filtered.na.drop()"
   ]
  },
  {
   "cell_type": "code",
   "execution_count": 30,
   "id": "2433175e-7f4d-4ac8-83a3-3841ad2016df",
   "metadata": {},
   "outputs": [
    {
     "name": "stdout",
     "output_type": "stream",
     "text": [
      "+--------+------+------+----+-----+-----+-------+--------+\n",
      "|Survived|Pclass|   Sex| Age|SibSp|Parch|   Fare|Embarked|\n",
      "+--------+------+------+----+-----+-----+-------+--------+\n",
      "|       0|     3|  male|22.0|    1|    0|   7.25|       S|\n",
      "|       1|     1|female|38.0|    1|    0|71.2833|       C|\n",
      "|       1|     3|female|26.0|    0|    0|  7.925|       S|\n",
      "|       1|     1|female|35.0|    1|    0|   53.1|       S|\n",
      "|       0|     3|  male|35.0|    0|    0|   8.05|       S|\n",
      "|       0|     1|  male|54.0|    0|    0|51.8625|       S|\n",
      "|       0|     3|  male| 2.0|    3|    1| 21.075|       S|\n",
      "|       1|     3|female|27.0|    0|    2|11.1333|       S|\n",
      "|       1|     2|female|14.0|    1|    0|30.0708|       C|\n",
      "|       1|     3|female| 4.0|    1|    1|   16.7|       S|\n",
      "|       1|     1|female|58.0|    0|    0|  26.55|       S|\n",
      "|       0|     3|  male|20.0|    0|    0|   8.05|       S|\n",
      "|       0|     3|  male|39.0|    1|    5| 31.275|       S|\n",
      "|       0|     3|female|14.0|    0|    0| 7.8542|       S|\n",
      "|       1|     2|female|55.0|    0|    0|   16.0|       S|\n",
      "|       0|     3|  male| 2.0|    4|    1| 29.125|       Q|\n",
      "|       0|     3|female|31.0|    1|    0|   18.0|       S|\n",
      "|       0|     2|  male|35.0|    0|    0|   26.0|       S|\n",
      "|       1|     2|  male|34.0|    0|    0|   13.0|       S|\n",
      "|       1|     3|female|15.0|    0|    0| 8.0292|       Q|\n",
      "+--------+------+------+----+-----+-----+-------+--------+\n",
      "only showing top 20 rows\n",
      "\n"
     ]
    }
   ],
   "source": [
    "df_clean.show()"
   ]
  },
  {
   "cell_type": "markdown",
   "id": "0e30bd65-4303-462a-851b-3b94255ad881",
   "metadata": {},
   "source": [
    "## Working with categorical variables...\n",
    "\n",
    "1. Create a string indexer (convert string into integer)\n",
    "2. One-hot encode"
   ]
  },
  {
   "cell_type": "code",
   "execution_count": 31,
   "id": "2c67d62a-6769-4d7f-adf7-6657ddede74e",
   "metadata": {},
   "outputs": [],
   "source": [
    "from pyspark.ml.feature import VectorAssembler, VectorIndexer, OneHotEncoder, StringIndexer"
   ]
  },
  {
   "cell_type": "code",
   "execution_count": 33,
   "id": "385c9b8c-ffff-4c59-b69a-247ff919052c",
   "metadata": {},
   "outputs": [],
   "source": [
    "gender_indexer = StringIndexer(inputCol='Sex', outputCol='SexIndex')\n",
    "gender_encoder = OneHotEncoder(inputCol='SexIndex', outputCol='SexVec')"
   ]
  },
  {
   "cell_type": "code",
   "execution_count": 34,
   "id": "cab71056-6b98-42f7-b577-ff57b3bd87cf",
   "metadata": {},
   "outputs": [],
   "source": [
    "embark_indexer = StringIndexer(inputCol='Embarked', outputCol='EmbarkIndex')\n",
    "embark_encoder = OneHotEncoder(inputCol='EmbarkIndex', outputCol='EmbarkVec')"
   ]
  },
  {
   "cell_type": "code",
   "execution_count": 35,
   "id": "ac5f47e0-9325-4194-8d36-226d88c61024",
   "metadata": {},
   "outputs": [],
   "source": [
    "assembler = VectorAssembler(inputCols=['Pclass', 'SexVec', 'EmbarkVec', 'Age', 'SibSp', 'Parch', 'Fare'],\n",
    "                            outputCol='features')"
   ]
  },
  {
   "cell_type": "code",
   "execution_count": 36,
   "id": "3abf6353-6903-4aa2-9eaa-c434c6badb0a",
   "metadata": {},
   "outputs": [],
   "source": [
    "from pyspark.ml.classification import LogisticRegression\n",
    "from pyspark.ml import Pipeline"
   ]
  },
  {
   "cell_type": "code",
   "execution_count": 37,
   "id": "c027fbaa-4b9c-475d-9220-b4600359b41f",
   "metadata": {},
   "outputs": [],
   "source": [
    "log_reg_titanic = LogisticRegression(featuresCol='features', labelCol='Survived')"
   ]
  },
  {
   "cell_type": "code",
   "execution_count": 38,
   "id": "63171285-e8ac-406c-99fc-52dea00df44a",
   "metadata": {},
   "outputs": [],
   "source": [
    "pipeline = Pipeline(stages=[gender_indexer, embark_indexer, \n",
    "                            gender_encoder, embark_encoder, \n",
    "                            assembler, \n",
    "                            log_reg_titanic])"
   ]
  },
  {
   "cell_type": "code",
   "execution_count": 45,
   "id": "0fe4ee30-b745-4bcf-abb7-b34c277081e2",
   "metadata": {},
   "outputs": [],
   "source": [
    "train_data, test_data = df_clean.randomSplit([0.7, 0.3])"
   ]
  },
  {
   "cell_type": "code",
   "execution_count": 46,
   "id": "0a4ae856-aaf5-4e78-91d7-9e946bd7578c",
   "metadata": {},
   "outputs": [],
   "source": [
    "model = pipeline.fit(train_data)"
   ]
  },
  {
   "cell_type": "code",
   "execution_count": 47,
   "id": "4217a2c1-0bc1-4341-b3d4-df7d5be7ddbd",
   "metadata": {},
   "outputs": [],
   "source": [
    "results = model.transform(test_data)"
   ]
  },
  {
   "cell_type": "code",
   "execution_count": 50,
   "id": "a4f6caeb-6918-4a27-b5ec-18e218c94a3c",
   "metadata": {},
   "outputs": [
    {
     "name": "stdout",
     "output_type": "stream",
     "text": [
      "root\n",
      " |-- Survived: integer (nullable = true)\n",
      " |-- Pclass: integer (nullable = true)\n",
      " |-- Sex: string (nullable = true)\n",
      " |-- Age: double (nullable = true)\n",
      " |-- SibSp: integer (nullable = true)\n",
      " |-- Parch: integer (nullable = true)\n",
      " |-- Fare: double (nullable = true)\n",
      " |-- Embarked: string (nullable = true)\n",
      " |-- SexIndex: double (nullable = false)\n",
      " |-- EmbarkIndex: double (nullable = false)\n",
      " |-- SexVec: vector (nullable = true)\n",
      " |-- EmbarkVec: vector (nullable = true)\n",
      " |-- features: vector (nullable = true)\n",
      " |-- rawPrediction: vector (nullable = true)\n",
      " |-- probability: vector (nullable = true)\n",
      " |-- prediction: double (nullable = false)\n",
      "\n"
     ]
    }
   ],
   "source": [
    "results.printSchema()"
   ]
  },
  {
   "cell_type": "code",
   "execution_count": 48,
   "id": "fadc976d-2050-4e05-9e97-62283886d57f",
   "metadata": {},
   "outputs": [],
   "source": [
    "from pyspark.ml.evaluation import BinaryClassificationEvaluator"
   ]
  },
  {
   "cell_type": "code",
   "execution_count": 52,
   "id": "6795e8b6-58a0-44e3-bfd8-60c604bab239",
   "metadata": {},
   "outputs": [],
   "source": [
    "evaluation = BinaryClassificationEvaluator(rawPredictionCol='prediction', labelCol='Survived')"
   ]
  },
  {
   "cell_type": "code",
   "execution_count": 56,
   "id": "503e1003-8a60-4e2a-964d-5437fb2e4b87",
   "metadata": {},
   "outputs": [
    {
     "name": "stdout",
     "output_type": "stream",
     "text": [
      "+--------+----------+--------------------+--------------------+\n",
      "|Survived|prediction|       rawPrediction|         probability|\n",
      "+--------+----------+--------------------+--------------------+\n",
      "|       0|       1.0|[-3.4943226322872...|[0.02947420142437...|\n",
      "|       0|       1.0|[-1.8085479464474...|[0.14081371112918...|\n",
      "|       0|       1.0|[-0.4652934083648...|[0.38573083396425...|\n",
      "|       0|       1.0|[-2.0336845182735...|[0.11571137970374...|\n",
      "|       0|       1.0|[-2.2692325041424...|[0.09370337000422...|\n",
      "|       0|       1.0|[-3.3685229291996...|[0.03329381610415...|\n",
      "|       0|       1.0|[-2.7822880357179...|[0.05828883540416...|\n",
      "|       0|       1.0|[-1.1358209823585...|[0.24308845967279...|\n",
      "|       0|       1.0|[-0.1457798947540...|[0.46361943281299...|\n",
      "|       0|       1.0|[-0.2408112754333...|[0.44008643435118...|\n",
      "|       0|       1.0|[-0.2991691752241...|[0.42576059776104...|\n",
      "|       0|       1.0|[-0.0031534820034...|[0.49921163015245...|\n",
      "|       0|       1.0|[-0.1148721538936...|[0.47131349925176...|\n",
      "|       0|       1.0|[-0.4541298486967...|[0.38837930736633...|\n",
      "|       0|       0.0|[0.52590093889917...|[0.62852656468658...|\n",
      "|       0|       0.0|[0.60088150944371...|[0.64585795578999...|\n",
      "|       0|       0.0|[0.40923965599149...|[0.60090554861321...|\n",
      "|       0|       0.0|[0.53143060533527...|[0.62981671609568...|\n",
      "|       0|       0.0|[0.17100738918389...|[0.54264796650220...|\n",
      "|       0|       0.0|[0.45697041900022...|[0.61229522970897...|\n",
      "+--------+----------+--------------------+--------------------+\n",
      "only showing top 20 rows\n",
      "\n"
     ]
    }
   ],
   "source": [
    "results_filter = results.select(['Survived', 'prediction', 'rawPrediction', 'probability'])\n",
    "results_filter.show()"
   ]
  },
  {
   "cell_type": "code",
   "execution_count": 60,
   "id": "2847a45b-c645-4d30-a2a1-20ca3925b6e2",
   "metadata": {},
   "outputs": [
    {
     "data": {
      "text/plain": [
       "Row(Survived=0, prediction=1.0, rawPrediction=DenseVector([-3.4943, 3.4943]), probability=DenseVector([0.0295, 0.9705]))"
      ]
     },
     "execution_count": 60,
     "metadata": {},
     "output_type": "execute_result"
    }
   ],
   "source": [
    "result_row = results_filter.head(1)[0]\n",
    "result_row"
   ]
  },
  {
   "cell_type": "code",
   "execution_count": 63,
   "id": "0a321c7b-9ce3-4949-a479-48176cd9cbe6",
   "metadata": {},
   "outputs": [
    {
     "data": {
      "text/plain": [
       "-3.4943226322872714"
      ]
     },
     "execution_count": 63,
     "metadata": {},
     "output_type": "execute_result"
    }
   ],
   "source": [
    "result_row['rawPrediction'][0]"
   ]
  },
  {
   "cell_type": "code",
   "execution_count": 70,
   "id": "fb9c477e-eb3e-43e8-a2c8-da97dd5bab2e",
   "metadata": {},
   "outputs": [
    {
     "data": {
      "text/plain": [
       "True"
      ]
     },
     "execution_count": 70,
     "metadata": {},
     "output_type": "execute_result"
    }
   ],
   "source": [
    "from scipy.special import expit\n",
    "import numpy as np\n",
    "np.isclose(expit(result_row['rawPrediction'][0]), result_row['probability'][0])"
   ]
  },
  {
   "cell_type": "code",
   "execution_count": 71,
   "id": "a5ee1eec-bad1-4aee-9023-748ed673f896",
   "metadata": {},
   "outputs": [
    {
     "data": {
      "text/plain": [
       "0.7704711514235323"
      ]
     },
     "execution_count": 71,
     "metadata": {},
     "output_type": "execute_result"
    }
   ],
   "source": [
    "evaluation.evaluate(results)  # ROC"
   ]
  },
  {
   "cell_type": "code",
   "execution_count": null,
   "id": "18febbbe-5c73-45a2-be57-26e7f89c6a06",
   "metadata": {},
   "outputs": [],
   "source": []
  }
 ],
 "metadata": {
  "kernelspec": {
   "display_name": "Python 3 (ipykernel)",
   "language": "python",
   "name": "python3"
  },
  "language_info": {
   "codemirror_mode": {
    "name": "ipython",
    "version": 3
   },
   "file_extension": ".py",
   "mimetype": "text/x-python",
   "name": "python",
   "nbconvert_exporter": "python",
   "pygments_lexer": "ipython3",
   "version": "3.8.10"
  }
 },
 "nbformat": 4,
 "nbformat_minor": 5
}
